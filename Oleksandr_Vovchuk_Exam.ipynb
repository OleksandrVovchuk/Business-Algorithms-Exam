{
  "nbformat": 4,
  "nbformat_minor": 0,
  "metadata": {
    "colab": {
      "name": "Untitled4.ipynb",
      "provenance": []
    },
    "kernelspec": {
      "name": "python3",
      "display_name": "Python 3"
    }
  },
  "cells": [
    {
      "cell_type": "markdown",
      "metadata": {
        "id": "wiOW20i4d5BD",
        "colab_type": "text"
      },
      "source": [
        "# Import libraries\n"
      ]
    },
    {
      "cell_type": "code",
      "metadata": {
        "id": "tUDjetD0OLuY",
        "colab_type": "code",
        "colab": {}
      },
      "source": [
        "import numpy as np\n",
        "import pandas as pd\n",
        "import matplotlib.pyplot as plt\n",
        "import seaborn\n",
        "\n",
        "from sklearn.preprocessing import MinMaxScaler\n",
        "from sklearn.model_selection import train_test_split\n",
        "\n",
        "\n"
      ],
      "execution_count": 641,
      "outputs": []
    },
    {
      "cell_type": "markdown",
      "metadata": {
        "id": "2Dp6hpPEeAYE",
        "colab_type": "text"
      },
      "source": [
        "# Load Data\n"
      ]
    },
    {
      "cell_type": "code",
      "metadata": {
        "id": "_n6HVbaLieCZ",
        "colab_type": "code",
        "colab": {}
      },
      "source": [
        "ads_data = pd.read_csv(\"/content/drive/My Drive/business algorithms exam/ads-data.csv\")\n",
        "additional_parameters = pd.read_csv(\"/content/drive/My Drive/business algorithms exam/additional-parameters.csv\")\n",
        "ads_views = pd.read_csv(\"/content/drive/My Drive/business algorithms exam/ads-views.csv\")"
      ],
      "execution_count": 642,
      "outputs": []
    },
    {
      "cell_type": "markdown",
      "metadata": {
        "id": "K_WgGy8SeX7U",
        "colab_type": "text"
      },
      "source": [
        "# Data cleaning and preprocessing\n",
        "Lets review each of the given DataFrames and merge them to the final Dataframe that will contain clean and preprocessed data.\n"
      ]
    },
    {
      "cell_type": "markdown",
      "metadata": {
        "id": "QTtj1ZD9fOMv",
        "colab_type": "text"
      },
      "source": [
        "**Ads_Data** contains all the main data about the ad. For now we will leave it uncleaned and will come back to the columns it contains after mergre."
      ]
    },
    {
      "cell_type": "code",
      "metadata": {
        "id": "f9f71GmnZV2c",
        "colab_type": "code",
        "colab": {
          "base_uri": "https://localhost:8080/",
          "height": 316
        },
        "outputId": "3bdb8031-afda-4ba7-c8fd-661e10ee736a"
      },
      "source": [
        "ads_data.head()"
      ],
      "execution_count": 643,
      "outputs": [
        {
          "output_type": "execute_result",
          "data": {
            "text/html": [
              "<div>\n",
              "<style scoped>\n",
              "    .dataframe tbody tr th:only-of-type {\n",
              "        vertical-align: middle;\n",
              "    }\n",
              "\n",
              "    .dataframe tbody tr th {\n",
              "        vertical-align: top;\n",
              "    }\n",
              "\n",
              "    .dataframe thead th {\n",
              "        text-align: right;\n",
              "    }\n",
              "</style>\n",
              "<table border=\"1\" class=\"dataframe\">\n",
              "  <thead>\n",
              "    <tr style=\"text-align: right;\">\n",
              "      <th></th>\n",
              "      <th>id</th>\n",
              "      <th>city_id</th>\n",
              "      <th>country_id</th>\n",
              "      <th>title</th>\n",
              "      <th>title_len</th>\n",
              "      <th>description</th>\n",
              "      <th>desc_len</th>\n",
              "      <th>completeness</th>\n",
              "      <th>price</th>\n",
              "      <th>currency</th>\n",
              "      <th>price_negotiable</th>\n",
              "      <th>created_time</th>\n",
              "      <th>deactivated_time</th>\n",
              "      <th>image</th>\n",
              "      <th>image_size</th>\n",
              "      <th>image_count</th>\n",
              "    </tr>\n",
              "  </thead>\n",
              "  <tbody>\n",
              "    <tr>\n",
              "      <th>0</th>\n",
              "      <td>62352700</td>\n",
              "      <td>100012</td>\n",
              "      <td>12</td>\n",
              "      <td>Продаю б/у холодильник(нерабочий). Цена догово...</td>\n",
              "      <td>59</td>\n",
              "      <td>Продаю б/у холодильник(нерабочий). Цена догово...</td>\n",
              "      <td>59</td>\n",
              "      <td>73</td>\n",
              "      <td>NaN</td>\n",
              "      <td>NaN</td>\n",
              "      <td>True</td>\n",
              "      <td>2019-09-15 13:46:22+00</td>\n",
              "      <td>2019-09-25 13:31:32+00</td>\n",
              "      <td>/00/a9/532e47a62e54288352c3e94017ba.jpeg</td>\n",
              "      <td>583x1200</td>\n",
              "      <td>2.0</td>\n",
              "    </tr>\n",
              "    <tr>\n",
              "      <th>1</th>\n",
              "      <td>51279082</td>\n",
              "      <td>100166</td>\n",
              "      <td>12</td>\n",
              "      <td>Продаю Холодильник Indesit DF 4160 W</td>\n",
              "      <td>36</td>\n",
              "      <td>Продаю Холодильник Indesit DF 4160 W\\n\\nПродае...</td>\n",
              "      <td>293</td>\n",
              "      <td>59</td>\n",
              "      <td>18000.0</td>\n",
              "      <td>KGS</td>\n",
              "      <td>False</td>\n",
              "      <td>2018-11-15 01:27:03+00</td>\n",
              "      <td>2019-01-08 15:39:00+00</td>\n",
              "      <td>/fe/29/76f202be09a91ccaf1c2d6c45afe.jpeg</td>\n",
              "      <td>774x1032</td>\n",
              "      <td>1.0</td>\n",
              "    </tr>\n",
              "    <tr>\n",
              "      <th>2</th>\n",
              "      <td>58488402</td>\n",
              "      <td>100450</td>\n",
              "      <td>12</td>\n",
              "      <td>NaN</td>\n",
              "      <td>0</td>\n",
              "      <td>NaN</td>\n",
              "      <td>0</td>\n",
              "      <td>19</td>\n",
              "      <td>NaN</td>\n",
              "      <td>NaN</td>\n",
              "      <td>True</td>\n",
              "      <td>2019-05-29 03:46:09+00</td>\n",
              "      <td>2019-07-15 05:33:48+00</td>\n",
              "      <td>/38/32/21305ba25e6c55c79a9c9947111d.jpeg</td>\n",
              "      <td>873x1552</td>\n",
              "      <td>1.0</td>\n",
              "    </tr>\n",
              "    <tr>\n",
              "      <th>3</th>\n",
              "      <td>62741678</td>\n",
              "      <td>100560</td>\n",
              "      <td>12</td>\n",
              "      <td>торг уместен</td>\n",
              "      <td>13</td>\n",
              "      <td>торг уместен</td>\n",
              "      <td>13</td>\n",
              "      <td>49</td>\n",
              "      <td>10000.0</td>\n",
              "      <td>KGS</td>\n",
              "      <td>False</td>\n",
              "      <td>2019-09-25 07:49:26+00</td>\n",
              "      <td>2019-09-25 15:27:39+00</td>\n",
              "      <td>/7b/df/01014cd191ec3c0884706eeaea8e.jpeg</td>\n",
              "      <td>809x1080</td>\n",
              "      <td>1.0</td>\n",
              "    </tr>\n",
              "    <tr>\n",
              "      <th>4</th>\n",
              "      <td>64074838</td>\n",
              "      <td>100903</td>\n",
              "      <td>12</td>\n",
              "      <td>NaN</td>\n",
              "      <td>0</td>\n",
              "      <td>NaN</td>\n",
              "      <td>0</td>\n",
              "      <td>76</td>\n",
              "      <td>5000.0</td>\n",
              "      <td>KGS</td>\n",
              "      <td>False</td>\n",
              "      <td>2019-10-28 03:37:21+00</td>\n",
              "      <td>NaN</td>\n",
              "      <td>/03/74/09ff67ec251e2ec9be7e3bb6f311.jpeg</td>\n",
              "      <td>584x1040</td>\n",
              "      <td>3.0</td>\n",
              "    </tr>\n",
              "  </tbody>\n",
              "</table>\n",
              "</div>"
            ],
            "text/plain": [
              "         id  city_id  ...  image_size image_count\n",
              "0  62352700   100012  ...    583x1200         2.0\n",
              "1  51279082   100166  ...    774x1032         1.0\n",
              "2  58488402   100450  ...    873x1552         1.0\n",
              "3  62741678   100560  ...    809x1080         1.0\n",
              "4  64074838   100903  ...    584x1040         3.0\n",
              "\n",
              "[5 rows x 16 columns]"
            ]
          },
          "metadata": {
            "tags": []
          },
          "execution_count": 643
        }
      ]
    },
    {
      "cell_type": "markdown",
      "metadata": {
        "id": "DWQCLkYKfsoT",
        "colab_type": "text"
      },
      "source": [
        "**Additional_parameters** contains the unstructered additional parameters of the ads\n"
      ]
    },
    {
      "cell_type": "code",
      "metadata": {
        "id": "upuVII0dnT_f",
        "colab_type": "code",
        "colab": {
          "base_uri": "https://localhost:8080/",
          "height": 195
        },
        "outputId": "7ff61346-d924-42c3-b16e-7b929d5be72b"
      },
      "source": [
        "additional_parameters.head()"
      ],
      "execution_count": 644,
      "outputs": [
        {
          "output_type": "execute_result",
          "data": {
            "text/html": [
              "<div>\n",
              "<style scoped>\n",
              "    .dataframe tbody tr th:only-of-type {\n",
              "        vertical-align: middle;\n",
              "    }\n",
              "\n",
              "    .dataframe tbody tr th {\n",
              "        vertical-align: top;\n",
              "    }\n",
              "\n",
              "    .dataframe thead th {\n",
              "        text-align: right;\n",
              "    }\n",
              "</style>\n",
              "<table border=\"1\" class=\"dataframe\">\n",
              "  <thead>\n",
              "    <tr style=\"text-align: right;\">\n",
              "      <th></th>\n",
              "      <th>ad_id</th>\n",
              "      <th>param_id</th>\n",
              "      <th>value</th>\n",
              "    </tr>\n",
              "  </thead>\n",
              "  <tbody>\n",
              "    <tr>\n",
              "      <th>0</th>\n",
              "      <td>62352700</td>\n",
              "      <td>29</td>\n",
              "      <td>Used</td>\n",
              "    </tr>\n",
              "    <tr>\n",
              "      <th>1</th>\n",
              "      <td>62352700</td>\n",
              "      <td>105</td>\n",
              "      <td>white</td>\n",
              "    </tr>\n",
              "    <tr>\n",
              "      <th>2</th>\n",
              "      <td>62352700</td>\n",
              "      <td>221</td>\n",
              "      <td>Stinol</td>\n",
              "    </tr>\n",
              "    <tr>\n",
              "      <th>3</th>\n",
              "      <td>62352700</td>\n",
              "      <td>222</td>\n",
              "      <td>Double Chamber</td>\n",
              "    </tr>\n",
              "    <tr>\n",
              "      <th>4</th>\n",
              "      <td>62352700</td>\n",
              "      <td>223</td>\n",
              "      <td>Bottom</td>\n",
              "    </tr>\n",
              "  </tbody>\n",
              "</table>\n",
              "</div>"
            ],
            "text/plain": [
              "      ad_id  param_id           value\n",
              "0  62352700        29            Used\n",
              "1  62352700       105           white\n",
              "2  62352700       221          Stinol\n",
              "3  62352700       222  Double Chamber\n",
              "4  62352700       223          Bottom"
            ]
          },
          "metadata": {
            "tags": []
          },
          "execution_count": 644
        }
      ]
    },
    {
      "cell_type": "markdown",
      "metadata": {
        "id": "lat2PZAtgO7Q",
        "colab_type": "text"
      },
      "source": [
        "Lets view what parameters are there:"
      ]
    },
    {
      "cell_type": "code",
      "metadata": {
        "id": "ek6orbsEgae2",
        "colab_type": "code",
        "colab": {
          "base_uri": "https://localhost:8080/",
          "height": 34
        },
        "outputId": "91ae27a3-701b-42ea-cb13-e1693b593110"
      },
      "source": [
        "additional_parameters.param_id.unique()"
      ],
      "execution_count": 645,
      "outputs": [
        {
          "output_type": "execute_result",
          "data": {
            "text/plain": [
              "array([ 29, 105, 221, 222, 223, 425, 358])"
            ]
          },
          "metadata": {
            "tags": []
          },
          "execution_count": 645
        }
      ]
    },
    {
      "cell_type": "markdown",
      "metadata": {
        "id": "DA4I5CLmgix3",
        "colab_type": "text"
      },
      "source": [
        "As we can in see, in total - there are 7 parameters. Lets view what data they contain:"
      ]
    },
    {
      "cell_type": "code",
      "metadata": {
        "id": "GUOlrTRIgydF",
        "colab_type": "code",
        "colab": {
          "base_uri": "https://localhost:8080/",
          "height": 422
        },
        "outputId": "099e865e-500f-477d-edcd-f7d2aac9eb34"
      },
      "source": [
        "additional_parameters.value.unique()"
      ],
      "execution_count": 646,
      "outputs": [
        {
          "output_type": "execute_result",
          "data": {
            "text/plain": [
              "array(['Used', 'white', 'Stinol', 'Double Chamber', 'Bottom', 'LG',\n",
              "       'Single Chamber', 'Top', 'Bosch', 'Vestfrost', 'Daewoo',\n",
              "       'Three Chambered', 'Saturn', 'Indesit', 'Hotpoint Ariston',\n",
              "       'Minsk', 'Biryusa', 'blue', 'Refrigerator Showcase',\n",
              "       'Without Freezer', 'Samsung', 'New', 'Atlant', 'Pozis', 'grey',\n",
              "       'Beko', 'Saratov', 'Orsk', 'Swizer', 'Nord', 'Siemens',\n",
              "       'Free delivery', 'Silver Iphone', 'Hitachi', 'Paid delivery',\n",
              "       'black', 'Needs repair', 'pink', 'Avest', 'brown', 'gold', 'Beige',\n",
              "       'Milky-white', 'Midea', 'Left', 'Customer pickup', 'Delivered-1',\n",
              "       'Dnepr', 'red', 'Side-By-Side', 'For parts', 'yellow', 'Built-In',\n",
              "       'Hisense', 'Shivaki', 'Caso', 'green', 'Snaige', 'Haier', 'Wine',\n",
              "       'Profycool', 'Pamir', 'orange', 'purple', 'Blue-1', 'AEG',\n",
              "       'Electrolux', 'Ardo', 'Zil', 'Vestel', 'Cinar', 'Freggia',\n",
              "       'Hauser', 'Rokos', 'Sky Berg', 'Sharp', 'Laretti', 'Star',\n",
              "       'Arctic', 'Delfa', 'Toshiba', 'Liebherr', 'Donbass', 'Talberg',\n",
              "       'Venus', 'Moon', 'Altus', 'Orvica', 'Elit', 'Aysberq', 'Barfab',\n",
              "       'Panasonic', 'Ardesto', 'Hansa', 'Candy', 'Liberty', 'Arcelik',\n",
              "       'Philips', 'Whirlpool', 'Kivi', 'Gunter&Hauer', 'Hoffman', 'Mabe',\n",
              "       'Aqua', 'Mirta', 'Gorenje', 'Prime Technics', 'Liberton', 'Sencor',\n",
              "       'Zanussi', 'Rotex', 'Interline', 'Hilton', 'Ergo', 'Galanz',\n",
              "       'Virpol', 'Rosieres', 'Zabrat', 'Nardaran', 'Sabailskij', 'Fatmai',\n",
              "       'Lokbatan', 'Digyah', 'Mushvugabad', 'Novhany', 'Tyurkan', 'Miele',\n",
              "       'Philco'], dtype=object)"
            ]
          },
          "metadata": {
            "tags": []
          },
          "execution_count": 646
        }
      ]
    },
    {
      "cell_type": "markdown",
      "metadata": {
        "id": "VvwAy5Jwg5L9",
        "colab_type": "text"
      },
      "source": [
        "So we have the data about the Condition, Color, Manufacturer and etc. \n",
        "Lets transform our data: "
      ]
    },
    {
      "cell_type": "code",
      "metadata": {
        "id": "fqwhq0mwhLY5",
        "colab_type": "code",
        "colab": {}
      },
      "source": [
        "additional_parameters = additional_parameters.drop_duplicates(['ad_id','param_id'], keep='last').pivot(index='ad_id', columns='param_id', values='value')"
      ],
      "execution_count": 647,
      "outputs": []
    },
    {
      "cell_type": "code",
      "metadata": {
        "id": "8JSvJ8qqhm3_",
        "colab_type": "code",
        "colab": {}
      },
      "source": [
        "additional_parameters = pd.DataFrame(additional_parameters.to_records())"
      ],
      "execution_count": 648,
      "outputs": []
    },
    {
      "cell_type": "code",
      "metadata": {
        "id": "NPXBPbYvhqyt",
        "colab_type": "code",
        "colab": {
          "base_uri": "https://localhost:8080/",
          "height": 402
        },
        "outputId": "127f252e-00d7-4d59-964b-e18335b74f5c"
      },
      "source": [
        "additional_parameters"
      ],
      "execution_count": 649,
      "outputs": [
        {
          "output_type": "execute_result",
          "data": {
            "text/html": [
              "<div>\n",
              "<style scoped>\n",
              "    .dataframe tbody tr th:only-of-type {\n",
              "        vertical-align: middle;\n",
              "    }\n",
              "\n",
              "    .dataframe tbody tr th {\n",
              "        vertical-align: top;\n",
              "    }\n",
              "\n",
              "    .dataframe thead th {\n",
              "        text-align: right;\n",
              "    }\n",
              "</style>\n",
              "<table border=\"1\" class=\"dataframe\">\n",
              "  <thead>\n",
              "    <tr style=\"text-align: right;\">\n",
              "      <th></th>\n",
              "      <th>ad_id</th>\n",
              "      <th>29</th>\n",
              "      <th>105</th>\n",
              "      <th>221</th>\n",
              "      <th>222</th>\n",
              "      <th>223</th>\n",
              "      <th>358</th>\n",
              "      <th>425</th>\n",
              "    </tr>\n",
              "  </thead>\n",
              "  <tbody>\n",
              "    <tr>\n",
              "      <th>0</th>\n",
              "      <td>36957027</td>\n",
              "      <td>New</td>\n",
              "      <td>NaN</td>\n",
              "      <td>NaN</td>\n",
              "      <td>NaN</td>\n",
              "      <td>NaN</td>\n",
              "      <td>NaN</td>\n",
              "      <td>NaN</td>\n",
              "    </tr>\n",
              "    <tr>\n",
              "      <th>1</th>\n",
              "      <td>37118694</td>\n",
              "      <td>Used</td>\n",
              "      <td>Silver Iphone</td>\n",
              "      <td>NaN</td>\n",
              "      <td>Double Chamber</td>\n",
              "      <td>Bottom</td>\n",
              "      <td>NaN</td>\n",
              "      <td>NaN</td>\n",
              "    </tr>\n",
              "    <tr>\n",
              "      <th>2</th>\n",
              "      <td>37175537</td>\n",
              "      <td>Used</td>\n",
              "      <td>white</td>\n",
              "      <td>NaN</td>\n",
              "      <td>NaN</td>\n",
              "      <td>Top</td>\n",
              "      <td>NaN</td>\n",
              "      <td>NaN</td>\n",
              "    </tr>\n",
              "    <tr>\n",
              "      <th>3</th>\n",
              "      <td>37968236</td>\n",
              "      <td>Used</td>\n",
              "      <td>NaN</td>\n",
              "      <td>NaN</td>\n",
              "      <td>NaN</td>\n",
              "      <td>NaN</td>\n",
              "      <td>NaN</td>\n",
              "      <td>NaN</td>\n",
              "    </tr>\n",
              "    <tr>\n",
              "      <th>4</th>\n",
              "      <td>38070336</td>\n",
              "      <td>Used</td>\n",
              "      <td>NaN</td>\n",
              "      <td>Beko</td>\n",
              "      <td>NaN</td>\n",
              "      <td>Top</td>\n",
              "      <td>NaN</td>\n",
              "      <td>NaN</td>\n",
              "    </tr>\n",
              "    <tr>\n",
              "      <th>...</th>\n",
              "      <td>...</td>\n",
              "      <td>...</td>\n",
              "      <td>...</td>\n",
              "      <td>...</td>\n",
              "      <td>...</td>\n",
              "      <td>...</td>\n",
              "      <td>...</td>\n",
              "      <td>...</td>\n",
              "    </tr>\n",
              "    <tr>\n",
              "      <th>50354</th>\n",
              "      <td>73542927</td>\n",
              "      <td>Needs repair</td>\n",
              "      <td>white</td>\n",
              "      <td>Samsung</td>\n",
              "      <td>Double Chamber</td>\n",
              "      <td>Top</td>\n",
              "      <td>NaN</td>\n",
              "      <td>NaN</td>\n",
              "    </tr>\n",
              "    <tr>\n",
              "      <th>50355</th>\n",
              "      <td>73545060</td>\n",
              "      <td>Used</td>\n",
              "      <td>white</td>\n",
              "      <td>LG</td>\n",
              "      <td>Double Chamber</td>\n",
              "      <td>Top</td>\n",
              "      <td>NaN</td>\n",
              "      <td>Paid delivery</td>\n",
              "    </tr>\n",
              "    <tr>\n",
              "      <th>50356</th>\n",
              "      <td>73545466</td>\n",
              "      <td>NaN</td>\n",
              "      <td>NaN</td>\n",
              "      <td>Sharp</td>\n",
              "      <td>NaN</td>\n",
              "      <td>Top</td>\n",
              "      <td>NaN</td>\n",
              "      <td>NaN</td>\n",
              "    </tr>\n",
              "    <tr>\n",
              "      <th>50357</th>\n",
              "      <td>73545703</td>\n",
              "      <td>Used</td>\n",
              "      <td>white</td>\n",
              "      <td>Nord</td>\n",
              "      <td>Double Chamber</td>\n",
              "      <td>Top</td>\n",
              "      <td>NaN</td>\n",
              "      <td>Paid delivery</td>\n",
              "    </tr>\n",
              "    <tr>\n",
              "      <th>50358</th>\n",
              "      <td>73546174</td>\n",
              "      <td>Used</td>\n",
              "      <td>white</td>\n",
              "      <td>NaN</td>\n",
              "      <td>Double Chamber</td>\n",
              "      <td>Bottom</td>\n",
              "      <td>NaN</td>\n",
              "      <td>Free delivery</td>\n",
              "    </tr>\n",
              "  </tbody>\n",
              "</table>\n",
              "<p>50359 rows × 8 columns</p>\n",
              "</div>"
            ],
            "text/plain": [
              "          ad_id            29            105  ...     223  358            425\n",
              "0      36957027           New            NaN  ...     NaN  NaN            NaN\n",
              "1      37118694          Used  Silver Iphone  ...  Bottom  NaN            NaN\n",
              "2      37175537          Used          white  ...     Top  NaN            NaN\n",
              "3      37968236          Used            NaN  ...     NaN  NaN            NaN\n",
              "4      38070336          Used            NaN  ...     Top  NaN            NaN\n",
              "...         ...           ...            ...  ...     ...  ...            ...\n",
              "50354  73542927  Needs repair          white  ...     Top  NaN            NaN\n",
              "50355  73545060          Used          white  ...     Top  NaN  Paid delivery\n",
              "50356  73545466           NaN            NaN  ...     Top  NaN            NaN\n",
              "50357  73545703          Used          white  ...     Top  NaN  Paid delivery\n",
              "50358  73546174          Used          white  ...  Bottom  NaN  Free delivery\n",
              "\n",
              "[50359 rows x 8 columns]"
            ]
          },
          "metadata": {
            "tags": []
          },
          "execution_count": 649
        }
      ]
    },
    {
      "cell_type": "markdown",
      "metadata": {
        "id": "IiYBRSfxkU21",
        "colab_type": "text"
      },
      "source": [
        "Here we can seee a unique values of non-classified columns"
      ]
    },
    {
      "cell_type": "code",
      "metadata": {
        "id": "Q1zN_D4tj9mk",
        "colab_type": "code",
        "colab": {
          "base_uri": "https://localhost:8080/",
          "height": 105
        },
        "outputId": "f63bdb56-4874-471a-d4f6-15ef118bee0b"
      },
      "source": [
        "print(additional_parameters['222'].unique())\n",
        "print(additional_parameters['223'].unique())\n",
        "print(additional_parameters['358'].unique())"
      ],
      "execution_count": 650,
      "outputs": [
        {
          "output_type": "stream",
          "text": [
            "[nan 'Double Chamber' 'Single Chamber' 'Three Chambered' 'Wine'\n",
            " 'Refrigerator Showcase' 'Side-By-Side' 'Built-In']\n",
            "[nan 'Bottom' 'Top' 'Without Freezer' 'Left']\n",
            "[nan 'Zabrat' 'Sabailskij' 'Lokbatan' 'Fatmai' 'Nardaran' 'Digyah'\n",
            " 'Mushvugabad' 'Tyurkan' 'Novhany']\n"
          ],
          "name": "stdout"
        }
      ]
    },
    {
      "cell_type": "markdown",
      "metadata": {
        "id": "oLdgrR-Ah_-9",
        "colab_type": "text"
      },
      "source": [
        "Now we know the name of each parameter. Let's change the column names:"
      ]
    },
    {
      "cell_type": "code",
      "metadata": {
        "id": "tjpHO7KPiF4D",
        "colab_type": "code",
        "colab": {}
      },
      "source": [
        "additional_parameters.columns = ['ad_id', 'Condition', 'Color', 'Manufacturer', 'Type', 'Freezer', 'Location', 'Delivery']"
      ],
      "execution_count": 651,
      "outputs": []
    },
    {
      "cell_type": "markdown",
      "metadata": {
        "id": "cYQgUzjQjqOW",
        "colab_type": "text"
      },
      "source": [
        "And finally we have:"
      ]
    },
    {
      "cell_type": "code",
      "metadata": {
        "id": "grF6OZeIjkWN",
        "colab_type": "code",
        "colab": {
          "base_uri": "https://localhost:8080/",
          "height": 195
        },
        "outputId": "765253e7-028d-4746-e943-28cfed52f79a"
      },
      "source": [
        "additional_parameters.head()"
      ],
      "execution_count": 652,
      "outputs": [
        {
          "output_type": "execute_result",
          "data": {
            "text/html": [
              "<div>\n",
              "<style scoped>\n",
              "    .dataframe tbody tr th:only-of-type {\n",
              "        vertical-align: middle;\n",
              "    }\n",
              "\n",
              "    .dataframe tbody tr th {\n",
              "        vertical-align: top;\n",
              "    }\n",
              "\n",
              "    .dataframe thead th {\n",
              "        text-align: right;\n",
              "    }\n",
              "</style>\n",
              "<table border=\"1\" class=\"dataframe\">\n",
              "  <thead>\n",
              "    <tr style=\"text-align: right;\">\n",
              "      <th></th>\n",
              "      <th>ad_id</th>\n",
              "      <th>Condition</th>\n",
              "      <th>Color</th>\n",
              "      <th>Manufacturer</th>\n",
              "      <th>Type</th>\n",
              "      <th>Freezer</th>\n",
              "      <th>Location</th>\n",
              "      <th>Delivery</th>\n",
              "    </tr>\n",
              "  </thead>\n",
              "  <tbody>\n",
              "    <tr>\n",
              "      <th>0</th>\n",
              "      <td>36957027</td>\n",
              "      <td>New</td>\n",
              "      <td>NaN</td>\n",
              "      <td>NaN</td>\n",
              "      <td>NaN</td>\n",
              "      <td>NaN</td>\n",
              "      <td>NaN</td>\n",
              "      <td>NaN</td>\n",
              "    </tr>\n",
              "    <tr>\n",
              "      <th>1</th>\n",
              "      <td>37118694</td>\n",
              "      <td>Used</td>\n",
              "      <td>Silver Iphone</td>\n",
              "      <td>NaN</td>\n",
              "      <td>Double Chamber</td>\n",
              "      <td>Bottom</td>\n",
              "      <td>NaN</td>\n",
              "      <td>NaN</td>\n",
              "    </tr>\n",
              "    <tr>\n",
              "      <th>2</th>\n",
              "      <td>37175537</td>\n",
              "      <td>Used</td>\n",
              "      <td>white</td>\n",
              "      <td>NaN</td>\n",
              "      <td>NaN</td>\n",
              "      <td>Top</td>\n",
              "      <td>NaN</td>\n",
              "      <td>NaN</td>\n",
              "    </tr>\n",
              "    <tr>\n",
              "      <th>3</th>\n",
              "      <td>37968236</td>\n",
              "      <td>Used</td>\n",
              "      <td>NaN</td>\n",
              "      <td>NaN</td>\n",
              "      <td>NaN</td>\n",
              "      <td>NaN</td>\n",
              "      <td>NaN</td>\n",
              "      <td>NaN</td>\n",
              "    </tr>\n",
              "    <tr>\n",
              "      <th>4</th>\n",
              "      <td>38070336</td>\n",
              "      <td>Used</td>\n",
              "      <td>NaN</td>\n",
              "      <td>Beko</td>\n",
              "      <td>NaN</td>\n",
              "      <td>Top</td>\n",
              "      <td>NaN</td>\n",
              "      <td>NaN</td>\n",
              "    </tr>\n",
              "  </tbody>\n",
              "</table>\n",
              "</div>"
            ],
            "text/plain": [
              "      ad_id Condition          Color  ... Freezer Location Delivery\n",
              "0  36957027       New            NaN  ...     NaN      NaN      NaN\n",
              "1  37118694      Used  Silver Iphone  ...  Bottom      NaN      NaN\n",
              "2  37175537      Used          white  ...     Top      NaN      NaN\n",
              "3  37968236      Used            NaN  ...     NaN      NaN      NaN\n",
              "4  38070336      Used            NaN  ...     Top      NaN      NaN\n",
              "\n",
              "[5 rows x 8 columns]"
            ]
          },
          "metadata": {
            "tags": []
          },
          "execution_count": 652
        }
      ]
    },
    {
      "cell_type": "markdown",
      "metadata": {
        "id": "hA5yYZ80kpXL",
        "colab_type": "text"
      },
      "source": [
        "**Ads_views** contains the views data of each add:"
      ]
    },
    {
      "cell_type": "code",
      "metadata": {
        "id": "k3GCbjmpfIdn",
        "colab_type": "code",
        "colab": {
          "base_uri": "https://localhost:8080/",
          "height": 195
        },
        "outputId": "527bba24-23b3-438f-a5fd-8ee836070a87"
      },
      "source": [
        "ads_views.head()"
      ],
      "execution_count": 653,
      "outputs": [
        {
          "output_type": "execute_result",
          "data": {
            "text/html": [
              "<div>\n",
              "<style scoped>\n",
              "    .dataframe tbody tr th:only-of-type {\n",
              "        vertical-align: middle;\n",
              "    }\n",
              "\n",
              "    .dataframe tbody tr th {\n",
              "        vertical-align: top;\n",
              "    }\n",
              "\n",
              "    .dataframe thead th {\n",
              "        text-align: right;\n",
              "    }\n",
              "</style>\n",
              "<table border=\"1\" class=\"dataframe\">\n",
              "  <thead>\n",
              "    <tr style=\"text-align: right;\">\n",
              "      <th></th>\n",
              "      <th>Unnamed: 0</th>\n",
              "      <th>ad_id</th>\n",
              "      <th>views</th>\n",
              "    </tr>\n",
              "  </thead>\n",
              "  <tbody>\n",
              "    <tr>\n",
              "      <th>0</th>\n",
              "      <td>0</td>\n",
              "      <td>73400326</td>\n",
              "      <td>186.0</td>\n",
              "    </tr>\n",
              "    <tr>\n",
              "      <th>1</th>\n",
              "      <td>1</td>\n",
              "      <td>66584583</td>\n",
              "      <td>96.0</td>\n",
              "    </tr>\n",
              "    <tr>\n",
              "      <th>2</th>\n",
              "      <td>2</td>\n",
              "      <td>62390289</td>\n",
              "      <td>50.0</td>\n",
              "    </tr>\n",
              "    <tr>\n",
              "      <th>3</th>\n",
              "      <td>3</td>\n",
              "      <td>71303195</td>\n",
              "      <td>168.0</td>\n",
              "    </tr>\n",
              "    <tr>\n",
              "      <th>4</th>\n",
              "      <td>4</td>\n",
              "      <td>73400349</td>\n",
              "      <td>202.0</td>\n",
              "    </tr>\n",
              "  </tbody>\n",
              "</table>\n",
              "</div>"
            ],
            "text/plain": [
              "   Unnamed: 0     ad_id  views\n",
              "0           0  73400326  186.0\n",
              "1           1  66584583   96.0\n",
              "2           2  62390289   50.0\n",
              "3           3  71303195  168.0\n",
              "4           4  73400349  202.0"
            ]
          },
          "metadata": {
            "tags": []
          },
          "execution_count": 653
        }
      ]
    },
    {
      "cell_type": "markdown",
      "metadata": {
        "id": "Wr5HGd9Yk4Ri",
        "colab_type": "text"
      },
      "source": [
        "Now we can merge all this 3 DataFrames into the final DataFrame and make manipulations with it."
      ]
    },
    {
      "cell_type": "code",
      "metadata": {
        "id": "eI5j1DlWlELk",
        "colab_type": "code",
        "colab": {
          "base_uri": "https://localhost:8080/",
          "height": 623
        },
        "outputId": "67755b57-7ce9-419b-a543-368e202b2d77"
      },
      "source": [
        "df = ads_data.join(additional_parameters.set_index('ad_id'), on='id').join(ads_views.set_index('ad_id'), on='id')\n",
        "df"
      ],
      "execution_count": 654,
      "outputs": [
        {
          "output_type": "execute_result",
          "data": {
            "text/html": [
              "<div>\n",
              "<style scoped>\n",
              "    .dataframe tbody tr th:only-of-type {\n",
              "        vertical-align: middle;\n",
              "    }\n",
              "\n",
              "    .dataframe tbody tr th {\n",
              "        vertical-align: top;\n",
              "    }\n",
              "\n",
              "    .dataframe thead th {\n",
              "        text-align: right;\n",
              "    }\n",
              "</style>\n",
              "<table border=\"1\" class=\"dataframe\">\n",
              "  <thead>\n",
              "    <tr style=\"text-align: right;\">\n",
              "      <th></th>\n",
              "      <th>id</th>\n",
              "      <th>city_id</th>\n",
              "      <th>country_id</th>\n",
              "      <th>title</th>\n",
              "      <th>title_len</th>\n",
              "      <th>description</th>\n",
              "      <th>desc_len</th>\n",
              "      <th>completeness</th>\n",
              "      <th>price</th>\n",
              "      <th>currency</th>\n",
              "      <th>price_negotiable</th>\n",
              "      <th>created_time</th>\n",
              "      <th>deactivated_time</th>\n",
              "      <th>image</th>\n",
              "      <th>image_size</th>\n",
              "      <th>image_count</th>\n",
              "      <th>Condition</th>\n",
              "      <th>Color</th>\n",
              "      <th>Manufacturer</th>\n",
              "      <th>Type</th>\n",
              "      <th>Freezer</th>\n",
              "      <th>Location</th>\n",
              "      <th>Delivery</th>\n",
              "      <th>Unnamed: 0</th>\n",
              "      <th>views</th>\n",
              "    </tr>\n",
              "  </thead>\n",
              "  <tbody>\n",
              "    <tr>\n",
              "      <th>0</th>\n",
              "      <td>62352700</td>\n",
              "      <td>100012</td>\n",
              "      <td>12</td>\n",
              "      <td>Продаю б/у холодильник(нерабочий). Цена догово...</td>\n",
              "      <td>59</td>\n",
              "      <td>Продаю б/у холодильник(нерабочий). Цена догово...</td>\n",
              "      <td>59</td>\n",
              "      <td>73</td>\n",
              "      <td>NaN</td>\n",
              "      <td>NaN</td>\n",
              "      <td>True</td>\n",
              "      <td>2019-09-15 13:46:22+00</td>\n",
              "      <td>2019-09-25 13:31:32+00</td>\n",
              "      <td>/00/a9/532e47a62e54288352c3e94017ba.jpeg</td>\n",
              "      <td>583x1200</td>\n",
              "      <td>2.0</td>\n",
              "      <td>Used</td>\n",
              "      <td>white</td>\n",
              "      <td>Stinol</td>\n",
              "      <td>Double Chamber</td>\n",
              "      <td>Bottom</td>\n",
              "      <td>NaN</td>\n",
              "      <td>NaN</td>\n",
              "      <td>76238.0</td>\n",
              "      <td>324.0</td>\n",
              "    </tr>\n",
              "    <tr>\n",
              "      <th>1</th>\n",
              "      <td>51279082</td>\n",
              "      <td>100166</td>\n",
              "      <td>12</td>\n",
              "      <td>Продаю Холодильник Indesit DF 4160 W</td>\n",
              "      <td>36</td>\n",
              "      <td>Продаю Холодильник Indesit DF 4160 W\\n\\nПродае...</td>\n",
              "      <td>293</td>\n",
              "      <td>59</td>\n",
              "      <td>18000.0</td>\n",
              "      <td>KGS</td>\n",
              "      <td>False</td>\n",
              "      <td>2018-11-15 01:27:03+00</td>\n",
              "      <td>2019-01-08 15:39:00+00</td>\n",
              "      <td>/fe/29/76f202be09a91ccaf1c2d6c45afe.jpeg</td>\n",
              "      <td>774x1032</td>\n",
              "      <td>1.0</td>\n",
              "      <td>NaN</td>\n",
              "      <td>NaN</td>\n",
              "      <td>NaN</td>\n",
              "      <td>NaN</td>\n",
              "      <td>NaN</td>\n",
              "      <td>NaN</td>\n",
              "      <td>NaN</td>\n",
              "      <td>65967.0</td>\n",
              "      <td>169.0</td>\n",
              "    </tr>\n",
              "    <tr>\n",
              "      <th>2</th>\n",
              "      <td>58488402</td>\n",
              "      <td>100450</td>\n",
              "      <td>12</td>\n",
              "      <td>NaN</td>\n",
              "      <td>0</td>\n",
              "      <td>NaN</td>\n",
              "      <td>0</td>\n",
              "      <td>19</td>\n",
              "      <td>NaN</td>\n",
              "      <td>NaN</td>\n",
              "      <td>True</td>\n",
              "      <td>2019-05-29 03:46:09+00</td>\n",
              "      <td>2019-07-15 05:33:48+00</td>\n",
              "      <td>/38/32/21305ba25e6c55c79a9c9947111d.jpeg</td>\n",
              "      <td>873x1552</td>\n",
              "      <td>1.0</td>\n",
              "      <td>NaN</td>\n",
              "      <td>NaN</td>\n",
              "      <td>NaN</td>\n",
              "      <td>NaN</td>\n",
              "      <td>NaN</td>\n",
              "      <td>NaN</td>\n",
              "      <td>NaN</td>\n",
              "      <td>45373.0</td>\n",
              "      <td>248.0</td>\n",
              "    </tr>\n",
              "    <tr>\n",
              "      <th>3</th>\n",
              "      <td>62741678</td>\n",
              "      <td>100560</td>\n",
              "      <td>12</td>\n",
              "      <td>торг уместен</td>\n",
              "      <td>13</td>\n",
              "      <td>торг уместен</td>\n",
              "      <td>13</td>\n",
              "      <td>49</td>\n",
              "      <td>10000.0</td>\n",
              "      <td>KGS</td>\n",
              "      <td>False</td>\n",
              "      <td>2019-09-25 07:49:26+00</td>\n",
              "      <td>2019-09-25 15:27:39+00</td>\n",
              "      <td>/7b/df/01014cd191ec3c0884706eeaea8e.jpeg</td>\n",
              "      <td>809x1080</td>\n",
              "      <td>1.0</td>\n",
              "      <td>Used</td>\n",
              "      <td>NaN</td>\n",
              "      <td>NaN</td>\n",
              "      <td>NaN</td>\n",
              "      <td>NaN</td>\n",
              "      <td>NaN</td>\n",
              "      <td>NaN</td>\n",
              "      <td>54464.0</td>\n",
              "      <td>64.0</td>\n",
              "    </tr>\n",
              "    <tr>\n",
              "      <th>4</th>\n",
              "      <td>64074838</td>\n",
              "      <td>100903</td>\n",
              "      <td>12</td>\n",
              "      <td>NaN</td>\n",
              "      <td>0</td>\n",
              "      <td>NaN</td>\n",
              "      <td>0</td>\n",
              "      <td>76</td>\n",
              "      <td>5000.0</td>\n",
              "      <td>KGS</td>\n",
              "      <td>False</td>\n",
              "      <td>2019-10-28 03:37:21+00</td>\n",
              "      <td>NaN</td>\n",
              "      <td>/03/74/09ff67ec251e2ec9be7e3bb6f311.jpeg</td>\n",
              "      <td>584x1040</td>\n",
              "      <td>3.0</td>\n",
              "      <td>Used</td>\n",
              "      <td>white</td>\n",
              "      <td>LG</td>\n",
              "      <td>Single Chamber</td>\n",
              "      <td>Top</td>\n",
              "      <td>NaN</td>\n",
              "      <td>NaN</td>\n",
              "      <td>17668.0</td>\n",
              "      <td>1485.0</td>\n",
              "    </tr>\n",
              "    <tr>\n",
              "      <th>...</th>\n",
              "      <td>...</td>\n",
              "      <td>...</td>\n",
              "      <td>...</td>\n",
              "      <td>...</td>\n",
              "      <td>...</td>\n",
              "      <td>...</td>\n",
              "      <td>...</td>\n",
              "      <td>...</td>\n",
              "      <td>...</td>\n",
              "      <td>...</td>\n",
              "      <td>...</td>\n",
              "      <td>...</td>\n",
              "      <td>...</td>\n",
              "      <td>...</td>\n",
              "      <td>...</td>\n",
              "      <td>...</td>\n",
              "      <td>...</td>\n",
              "      <td>...</td>\n",
              "      <td>...</td>\n",
              "      <td>...</td>\n",
              "      <td>...</td>\n",
              "      <td>...</td>\n",
              "      <td>...</td>\n",
              "      <td>...</td>\n",
              "      <td>...</td>\n",
              "    </tr>\n",
              "    <tr>\n",
              "      <th>85528</th>\n",
              "      <td>70380426</td>\n",
              "      <td>103802</td>\n",
              "      <td>13</td>\n",
              "      <td>NaN</td>\n",
              "      <td>0</td>\n",
              "      <td>NaN</td>\n",
              "      <td>0</td>\n",
              "      <td>70</td>\n",
              "      <td>250.0</td>\n",
              "      <td>AZN</td>\n",
              "      <td>False</td>\n",
              "      <td>2020-03-20 13:58:36+00</td>\n",
              "      <td>2020-03-26 22:44:13+00</td>\n",
              "      <td>/44/3c/62/4cfb1f2fb1a13a150caab5bc01.jpeg</td>\n",
              "      <td>370x658</td>\n",
              "      <td>4.0</td>\n",
              "      <td>Used</td>\n",
              "      <td>white</td>\n",
              "      <td>NaN</td>\n",
              "      <td>Refrigerator Showcase</td>\n",
              "      <td>NaN</td>\n",
              "      <td>NaN</td>\n",
              "      <td>NaN</td>\n",
              "      <td>19894.0</td>\n",
              "      <td>260.0</td>\n",
              "    </tr>\n",
              "    <tr>\n",
              "      <th>85529</th>\n",
              "      <td>71095200</td>\n",
              "      <td>103803</td>\n",
              "      <td>13</td>\n",
              "      <td>New Double Chamber white refrigerator Zanussi</td>\n",
              "      <td>45</td>\n",
              "      <td>Zanussi soyuducusu negd ve ya kreditle artiq b...</td>\n",
              "      <td>284</td>\n",
              "      <td>84</td>\n",
              "      <td>544.0</td>\n",
              "      <td>AZN</td>\n",
              "      <td>False</td>\n",
              "      <td>2020-04-18 12:09:06+00</td>\n",
              "      <td>NaN</td>\n",
              "      <td>/d8/3d/8f/de5b1eb12aee05580ec33b3eec.jpeg</td>\n",
              "      <td>370x370</td>\n",
              "      <td>1.0</td>\n",
              "      <td>New</td>\n",
              "      <td>white</td>\n",
              "      <td>Zanussi</td>\n",
              "      <td>Double Chamber</td>\n",
              "      <td>Top</td>\n",
              "      <td>NaN</td>\n",
              "      <td>Paid delivery</td>\n",
              "      <td>49033.0</td>\n",
              "      <td>170.0</td>\n",
              "    </tr>\n",
              "    <tr>\n",
              "      <th>85530</th>\n",
              "      <td>67961929</td>\n",
              "      <td>103803</td>\n",
              "      <td>13</td>\n",
              "      <td>Tecili xaladelnik satilir super veziyyetde qiy...</td>\n",
              "      <td>58</td>\n",
              "      <td>Tecili xaladelnik satilir super veziyyetde qiy...</td>\n",
              "      <td>58</td>\n",
              "      <td>55</td>\n",
              "      <td>NaN</td>\n",
              "      <td>NaN</td>\n",
              "      <td>True</td>\n",
              "      <td>2020-01-26 03:06:13+00</td>\n",
              "      <td>NaN</td>\n",
              "      <td>/6b/0b/76/98f8f459652c7603f53386f395.jpeg</td>\n",
              "      <td>370x740</td>\n",
              "      <td>3.0</td>\n",
              "      <td>NaN</td>\n",
              "      <td>NaN</td>\n",
              "      <td>NaN</td>\n",
              "      <td>NaN</td>\n",
              "      <td>NaN</td>\n",
              "      <td>NaN</td>\n",
              "      <td>NaN</td>\n",
              "      <td>50951.0</td>\n",
              "      <td>782.0</td>\n",
              "    </tr>\n",
              "    <tr>\n",
              "      <th>85531</th>\n",
              "      <td>71262662</td>\n",
              "      <td>103803</td>\n",
              "      <td>13</td>\n",
              "      <td>New Double Chamber white refrigerator Electrolux</td>\n",
              "      <td>48</td>\n",
              "      <td>Electrolux soyuduculari negd ve ya kreditle el...</td>\n",
              "      <td>188</td>\n",
              "      <td>84</td>\n",
              "      <td>1000.0</td>\n",
              "      <td>AZN</td>\n",
              "      <td>False</td>\n",
              "      <td>2020-04-24 20:52:19+00</td>\n",
              "      <td>2020-04-30 08:47:41+00</td>\n",
              "      <td>/b2/d2/de/b3f23becfca4b4ed62d5a800b3.jpeg</td>\n",
              "      <td>370x493</td>\n",
              "      <td>1.0</td>\n",
              "      <td>New</td>\n",
              "      <td>white</td>\n",
              "      <td>Electrolux</td>\n",
              "      <td>Double Chamber</td>\n",
              "      <td>Top</td>\n",
              "      <td>NaN</td>\n",
              "      <td>Paid delivery</td>\n",
              "      <td>75738.0</td>\n",
              "      <td>64.0</td>\n",
              "    </tr>\n",
              "    <tr>\n",
              "      <th>85532</th>\n",
              "      <td>68478405</td>\n",
              "      <td>103804</td>\n",
              "      <td>13</td>\n",
              "      <td>NaN</td>\n",
              "      <td>0</td>\n",
              "      <td>NaN</td>\n",
              "      <td>0</td>\n",
              "      <td>50</td>\n",
              "      <td>NaN</td>\n",
              "      <td>NaN</td>\n",
              "      <td>True</td>\n",
              "      <td>2020-02-05 15:09:33+00</td>\n",
              "      <td>2020-02-05 15:20:17+00</td>\n",
              "      <td>/a2/14/dd/f5c10ac16f4e1dfc1aa58a089e.jpeg</td>\n",
              "      <td>370x493</td>\n",
              "      <td>3.0</td>\n",
              "      <td>NaN</td>\n",
              "      <td>white</td>\n",
              "      <td>Altus</td>\n",
              "      <td>NaN</td>\n",
              "      <td>Bottom</td>\n",
              "      <td>NaN</td>\n",
              "      <td>NaN</td>\n",
              "      <td>49750.0</td>\n",
              "      <td>8.0</td>\n",
              "    </tr>\n",
              "  </tbody>\n",
              "</table>\n",
              "<p>85533 rows × 25 columns</p>\n",
              "</div>"
            ],
            "text/plain": [
              "             id  city_id  country_id  ...       Delivery  Unnamed: 0   views\n",
              "0      62352700   100012          12  ...            NaN     76238.0   324.0\n",
              "1      51279082   100166          12  ...            NaN     65967.0   169.0\n",
              "2      58488402   100450          12  ...            NaN     45373.0   248.0\n",
              "3      62741678   100560          12  ...            NaN     54464.0    64.0\n",
              "4      64074838   100903          12  ...            NaN     17668.0  1485.0\n",
              "...         ...      ...         ...  ...            ...         ...     ...\n",
              "85528  70380426   103802          13  ...            NaN     19894.0   260.0\n",
              "85529  71095200   103803          13  ...  Paid delivery     49033.0   170.0\n",
              "85530  67961929   103803          13  ...            NaN     50951.0   782.0\n",
              "85531  71262662   103803          13  ...  Paid delivery     75738.0    64.0\n",
              "85532  68478405   103804          13  ...            NaN     49750.0     8.0\n",
              "\n",
              "[85533 rows x 25 columns]"
            ]
          },
          "metadata": {
            "tags": []
          },
          "execution_count": 654
        }
      ]
    },
    {
      "cell_type": "markdown",
      "metadata": {
        "id": "l-XwNPxBlVbG",
        "colab_type": "text"
      },
      "source": [
        "Let's drop irrelevant columns:"
      ]
    },
    {
      "cell_type": "code",
      "metadata": {
        "id": "Ku6JFQEgmFut",
        "colab_type": "code",
        "colab": {
          "base_uri": "https://localhost:8080/",
          "height": 122
        },
        "outputId": "cc4d71a7-08d3-4b29-fe8a-0816be90d9c3"
      },
      "source": [
        "df.columns"
      ],
      "execution_count": 655,
      "outputs": [
        {
          "output_type": "execute_result",
          "data": {
            "text/plain": [
              "Index(['id', 'city_id', 'country_id', 'title', 'title_len', 'description',\n",
              "       'desc_len', 'completeness', 'price', 'currency', 'price_negotiable',\n",
              "       'created_time', 'deactivated_time', 'image', 'image_size',\n",
              "       'image_count', 'Condition', 'Color', 'Manufacturer', 'Type', 'Freezer',\n",
              "       'Location', 'Delivery', 'Unnamed: 0', 'views'],\n",
              "      dtype='object')"
            ]
          },
          "metadata": {
            "tags": []
          },
          "execution_count": 655
        }
      ]
    },
    {
      "cell_type": "code",
      "metadata": {
        "id": "e0Yz2swVlVAt",
        "colab_type": "code",
        "colab": {
          "base_uri": "https://localhost:8080/",
          "height": 606
        },
        "outputId": "fea55d14-8138-4f53-c3ab-c2f45a2f7e17"
      },
      "source": [
        "df = df.drop(['id', 'Location','image_size','Manufacturer', 'Unnamed: 0'], axis=1)\n",
        "df"
      ],
      "execution_count": 656,
      "outputs": [
        {
          "output_type": "execute_result",
          "data": {
            "text/html": [
              "<div>\n",
              "<style scoped>\n",
              "    .dataframe tbody tr th:only-of-type {\n",
              "        vertical-align: middle;\n",
              "    }\n",
              "\n",
              "    .dataframe tbody tr th {\n",
              "        vertical-align: top;\n",
              "    }\n",
              "\n",
              "    .dataframe thead th {\n",
              "        text-align: right;\n",
              "    }\n",
              "</style>\n",
              "<table border=\"1\" class=\"dataframe\">\n",
              "  <thead>\n",
              "    <tr style=\"text-align: right;\">\n",
              "      <th></th>\n",
              "      <th>city_id</th>\n",
              "      <th>country_id</th>\n",
              "      <th>title</th>\n",
              "      <th>title_len</th>\n",
              "      <th>description</th>\n",
              "      <th>desc_len</th>\n",
              "      <th>completeness</th>\n",
              "      <th>price</th>\n",
              "      <th>currency</th>\n",
              "      <th>price_negotiable</th>\n",
              "      <th>created_time</th>\n",
              "      <th>deactivated_time</th>\n",
              "      <th>image</th>\n",
              "      <th>image_count</th>\n",
              "      <th>Condition</th>\n",
              "      <th>Color</th>\n",
              "      <th>Type</th>\n",
              "      <th>Freezer</th>\n",
              "      <th>Delivery</th>\n",
              "      <th>views</th>\n",
              "    </tr>\n",
              "  </thead>\n",
              "  <tbody>\n",
              "    <tr>\n",
              "      <th>0</th>\n",
              "      <td>100012</td>\n",
              "      <td>12</td>\n",
              "      <td>Продаю б/у холодильник(нерабочий). Цена догово...</td>\n",
              "      <td>59</td>\n",
              "      <td>Продаю б/у холодильник(нерабочий). Цена догово...</td>\n",
              "      <td>59</td>\n",
              "      <td>73</td>\n",
              "      <td>NaN</td>\n",
              "      <td>NaN</td>\n",
              "      <td>True</td>\n",
              "      <td>2019-09-15 13:46:22+00</td>\n",
              "      <td>2019-09-25 13:31:32+00</td>\n",
              "      <td>/00/a9/532e47a62e54288352c3e94017ba.jpeg</td>\n",
              "      <td>2.0</td>\n",
              "      <td>Used</td>\n",
              "      <td>white</td>\n",
              "      <td>Double Chamber</td>\n",
              "      <td>Bottom</td>\n",
              "      <td>NaN</td>\n",
              "      <td>324.0</td>\n",
              "    </tr>\n",
              "    <tr>\n",
              "      <th>1</th>\n",
              "      <td>100166</td>\n",
              "      <td>12</td>\n",
              "      <td>Продаю Холодильник Indesit DF 4160 W</td>\n",
              "      <td>36</td>\n",
              "      <td>Продаю Холодильник Indesit DF 4160 W\\n\\nПродае...</td>\n",
              "      <td>293</td>\n",
              "      <td>59</td>\n",
              "      <td>18000.0</td>\n",
              "      <td>KGS</td>\n",
              "      <td>False</td>\n",
              "      <td>2018-11-15 01:27:03+00</td>\n",
              "      <td>2019-01-08 15:39:00+00</td>\n",
              "      <td>/fe/29/76f202be09a91ccaf1c2d6c45afe.jpeg</td>\n",
              "      <td>1.0</td>\n",
              "      <td>NaN</td>\n",
              "      <td>NaN</td>\n",
              "      <td>NaN</td>\n",
              "      <td>NaN</td>\n",
              "      <td>NaN</td>\n",
              "      <td>169.0</td>\n",
              "    </tr>\n",
              "    <tr>\n",
              "      <th>2</th>\n",
              "      <td>100450</td>\n",
              "      <td>12</td>\n",
              "      <td>NaN</td>\n",
              "      <td>0</td>\n",
              "      <td>NaN</td>\n",
              "      <td>0</td>\n",
              "      <td>19</td>\n",
              "      <td>NaN</td>\n",
              "      <td>NaN</td>\n",
              "      <td>True</td>\n",
              "      <td>2019-05-29 03:46:09+00</td>\n",
              "      <td>2019-07-15 05:33:48+00</td>\n",
              "      <td>/38/32/21305ba25e6c55c79a9c9947111d.jpeg</td>\n",
              "      <td>1.0</td>\n",
              "      <td>NaN</td>\n",
              "      <td>NaN</td>\n",
              "      <td>NaN</td>\n",
              "      <td>NaN</td>\n",
              "      <td>NaN</td>\n",
              "      <td>248.0</td>\n",
              "    </tr>\n",
              "    <tr>\n",
              "      <th>3</th>\n",
              "      <td>100560</td>\n",
              "      <td>12</td>\n",
              "      <td>торг уместен</td>\n",
              "      <td>13</td>\n",
              "      <td>торг уместен</td>\n",
              "      <td>13</td>\n",
              "      <td>49</td>\n",
              "      <td>10000.0</td>\n",
              "      <td>KGS</td>\n",
              "      <td>False</td>\n",
              "      <td>2019-09-25 07:49:26+00</td>\n",
              "      <td>2019-09-25 15:27:39+00</td>\n",
              "      <td>/7b/df/01014cd191ec3c0884706eeaea8e.jpeg</td>\n",
              "      <td>1.0</td>\n",
              "      <td>Used</td>\n",
              "      <td>NaN</td>\n",
              "      <td>NaN</td>\n",
              "      <td>NaN</td>\n",
              "      <td>NaN</td>\n",
              "      <td>64.0</td>\n",
              "    </tr>\n",
              "    <tr>\n",
              "      <th>4</th>\n",
              "      <td>100903</td>\n",
              "      <td>12</td>\n",
              "      <td>NaN</td>\n",
              "      <td>0</td>\n",
              "      <td>NaN</td>\n",
              "      <td>0</td>\n",
              "      <td>76</td>\n",
              "      <td>5000.0</td>\n",
              "      <td>KGS</td>\n",
              "      <td>False</td>\n",
              "      <td>2019-10-28 03:37:21+00</td>\n",
              "      <td>NaN</td>\n",
              "      <td>/03/74/09ff67ec251e2ec9be7e3bb6f311.jpeg</td>\n",
              "      <td>3.0</td>\n",
              "      <td>Used</td>\n",
              "      <td>white</td>\n",
              "      <td>Single Chamber</td>\n",
              "      <td>Top</td>\n",
              "      <td>NaN</td>\n",
              "      <td>1485.0</td>\n",
              "    </tr>\n",
              "    <tr>\n",
              "      <th>...</th>\n",
              "      <td>...</td>\n",
              "      <td>...</td>\n",
              "      <td>...</td>\n",
              "      <td>...</td>\n",
              "      <td>...</td>\n",
              "      <td>...</td>\n",
              "      <td>...</td>\n",
              "      <td>...</td>\n",
              "      <td>...</td>\n",
              "      <td>...</td>\n",
              "      <td>...</td>\n",
              "      <td>...</td>\n",
              "      <td>...</td>\n",
              "      <td>...</td>\n",
              "      <td>...</td>\n",
              "      <td>...</td>\n",
              "      <td>...</td>\n",
              "      <td>...</td>\n",
              "      <td>...</td>\n",
              "      <td>...</td>\n",
              "    </tr>\n",
              "    <tr>\n",
              "      <th>85528</th>\n",
              "      <td>103802</td>\n",
              "      <td>13</td>\n",
              "      <td>NaN</td>\n",
              "      <td>0</td>\n",
              "      <td>NaN</td>\n",
              "      <td>0</td>\n",
              "      <td>70</td>\n",
              "      <td>250.0</td>\n",
              "      <td>AZN</td>\n",
              "      <td>False</td>\n",
              "      <td>2020-03-20 13:58:36+00</td>\n",
              "      <td>2020-03-26 22:44:13+00</td>\n",
              "      <td>/44/3c/62/4cfb1f2fb1a13a150caab5bc01.jpeg</td>\n",
              "      <td>4.0</td>\n",
              "      <td>Used</td>\n",
              "      <td>white</td>\n",
              "      <td>Refrigerator Showcase</td>\n",
              "      <td>NaN</td>\n",
              "      <td>NaN</td>\n",
              "      <td>260.0</td>\n",
              "    </tr>\n",
              "    <tr>\n",
              "      <th>85529</th>\n",
              "      <td>103803</td>\n",
              "      <td>13</td>\n",
              "      <td>New Double Chamber white refrigerator Zanussi</td>\n",
              "      <td>45</td>\n",
              "      <td>Zanussi soyuducusu negd ve ya kreditle artiq b...</td>\n",
              "      <td>284</td>\n",
              "      <td>84</td>\n",
              "      <td>544.0</td>\n",
              "      <td>AZN</td>\n",
              "      <td>False</td>\n",
              "      <td>2020-04-18 12:09:06+00</td>\n",
              "      <td>NaN</td>\n",
              "      <td>/d8/3d/8f/de5b1eb12aee05580ec33b3eec.jpeg</td>\n",
              "      <td>1.0</td>\n",
              "      <td>New</td>\n",
              "      <td>white</td>\n",
              "      <td>Double Chamber</td>\n",
              "      <td>Top</td>\n",
              "      <td>Paid delivery</td>\n",
              "      <td>170.0</td>\n",
              "    </tr>\n",
              "    <tr>\n",
              "      <th>85530</th>\n",
              "      <td>103803</td>\n",
              "      <td>13</td>\n",
              "      <td>Tecili xaladelnik satilir super veziyyetde qiy...</td>\n",
              "      <td>58</td>\n",
              "      <td>Tecili xaladelnik satilir super veziyyetde qiy...</td>\n",
              "      <td>58</td>\n",
              "      <td>55</td>\n",
              "      <td>NaN</td>\n",
              "      <td>NaN</td>\n",
              "      <td>True</td>\n",
              "      <td>2020-01-26 03:06:13+00</td>\n",
              "      <td>NaN</td>\n",
              "      <td>/6b/0b/76/98f8f459652c7603f53386f395.jpeg</td>\n",
              "      <td>3.0</td>\n",
              "      <td>NaN</td>\n",
              "      <td>NaN</td>\n",
              "      <td>NaN</td>\n",
              "      <td>NaN</td>\n",
              "      <td>NaN</td>\n",
              "      <td>782.0</td>\n",
              "    </tr>\n",
              "    <tr>\n",
              "      <th>85531</th>\n",
              "      <td>103803</td>\n",
              "      <td>13</td>\n",
              "      <td>New Double Chamber white refrigerator Electrolux</td>\n",
              "      <td>48</td>\n",
              "      <td>Electrolux soyuduculari negd ve ya kreditle el...</td>\n",
              "      <td>188</td>\n",
              "      <td>84</td>\n",
              "      <td>1000.0</td>\n",
              "      <td>AZN</td>\n",
              "      <td>False</td>\n",
              "      <td>2020-04-24 20:52:19+00</td>\n",
              "      <td>2020-04-30 08:47:41+00</td>\n",
              "      <td>/b2/d2/de/b3f23becfca4b4ed62d5a800b3.jpeg</td>\n",
              "      <td>1.0</td>\n",
              "      <td>New</td>\n",
              "      <td>white</td>\n",
              "      <td>Double Chamber</td>\n",
              "      <td>Top</td>\n",
              "      <td>Paid delivery</td>\n",
              "      <td>64.0</td>\n",
              "    </tr>\n",
              "    <tr>\n",
              "      <th>85532</th>\n",
              "      <td>103804</td>\n",
              "      <td>13</td>\n",
              "      <td>NaN</td>\n",
              "      <td>0</td>\n",
              "      <td>NaN</td>\n",
              "      <td>0</td>\n",
              "      <td>50</td>\n",
              "      <td>NaN</td>\n",
              "      <td>NaN</td>\n",
              "      <td>True</td>\n",
              "      <td>2020-02-05 15:09:33+00</td>\n",
              "      <td>2020-02-05 15:20:17+00</td>\n",
              "      <td>/a2/14/dd/f5c10ac16f4e1dfc1aa58a089e.jpeg</td>\n",
              "      <td>3.0</td>\n",
              "      <td>NaN</td>\n",
              "      <td>white</td>\n",
              "      <td>NaN</td>\n",
              "      <td>Bottom</td>\n",
              "      <td>NaN</td>\n",
              "      <td>8.0</td>\n",
              "    </tr>\n",
              "  </tbody>\n",
              "</table>\n",
              "<p>85533 rows × 20 columns</p>\n",
              "</div>"
            ],
            "text/plain": [
              "       city_id  country_id  ...       Delivery   views\n",
              "0       100012          12  ...            NaN   324.0\n",
              "1       100166          12  ...            NaN   169.0\n",
              "2       100450          12  ...            NaN   248.0\n",
              "3       100560          12  ...            NaN    64.0\n",
              "4       100903          12  ...            NaN  1485.0\n",
              "...        ...         ...  ...            ...     ...\n",
              "85528   103802          13  ...            NaN   260.0\n",
              "85529   103803          13  ...  Paid delivery   170.0\n",
              "85530   103803          13  ...            NaN   782.0\n",
              "85531   103803          13  ...  Paid delivery    64.0\n",
              "85532   103804          13  ...            NaN     8.0\n",
              "\n",
              "[85533 rows x 20 columns]"
            ]
          },
          "metadata": {
            "tags": []
          },
          "execution_count": 656
        }
      ]
    },
    {
      "cell_type": "markdown",
      "metadata": {
        "id": "uekTuE0GrGWg",
        "colab_type": "text"
      },
      "source": [
        "Let's try to extract some text data out of the title and description:"
      ]
    },
    {
      "cell_type": "code",
      "metadata": {
        "id": "f9L6anz9rFv_",
        "colab_type": "code",
        "colab": {}
      },
      "source": [
        "title = [i for name in ads_data[ads_data['title'].notna()].title.to_list() for i in str(name).split()]\n",
        "title = [''.join(filter(str.isalnum, i)).lower() for i in title]\n",
        "description = [i for name in ads_data[ads_data['description'].notna()].description.to_list() for i in str(name).split()]\n",
        "description = [''.join(filter(str.isalnum, i)).lower() for i in description]\n",
        "text = title + description"
      ],
      "execution_count": 657,
      "outputs": []
    },
    {
      "cell_type": "markdown",
      "metadata": {
        "id": "m_vIFsprsuth",
        "colab_type": "text"
      },
      "source": [
        "View the most used words in title and description:"
      ]
    },
    {
      "cell_type": "code",
      "metadata": {
        "id": "FF00_ciUr6I4",
        "colab_type": "code",
        "colab": {
          "base_uri": "https://localhost:8080/",
          "height": 1000
        },
        "outputId": "55292775-0cad-4e1d-fe8b-0a94fce58113"
      },
      "source": [
        "from collections import Counter\n",
        "\n",
        "\n",
        "new_vals = Counter(text).most_common()\n",
        "new_vals = new_vals\n",
        "\n",
        "for a, b in new_vals[:100]:\n",
        "    print(a, b)"
      ],
      "execution_count": 658,
      "outputs": [
        {
          "output_type": "stream",
          "text": [
            "soyuducu 44521\n",
            "холодильник 38328\n",
            "продаю 17916\n",
            "super 15089\n",
            "в 14706\n",
            "satilir 14528\n",
            "var 13975\n",
            "yaxşı 13237\n",
            " 12826\n",
            "isleyir 11961\n",
            "bir 11236\n",
            "yoxdu 10651\n",
            "soyudur 10485\n",
            "ela 10227\n",
            "tam 10074\n",
            "işləyir 9414\n",
            "yoxdur 9116\n",
            "satılır 8622\n",
            "состоянии 8200\n",
            "problemi 7997\n",
            "hec 7957\n",
            "ve 7858\n",
            "zemanetle 7616\n",
            "azn 7090\n",
            "endirim 6804\n",
            "əla 6146\n",
            "praqa 5990\n",
            "unvan 5768\n",
            "catdirilma 5733\n",
            "elave 5610\n",
            "срочно 5450\n",
            "beko 5265\n",
            "tecili 5173\n",
            "çürüyü 5064\n",
            "бу 5039\n",
            "nefitcilerde 4814\n",
            "real 4750\n",
            "kredit 4561\n",
            "işlək 4516\n",
            "mumkundur 4507\n",
            "хорошем 4422\n",
            "2 4394\n",
            "veziyyetde 4392\n",
            "zeng 4382\n",
            "prablemi 4280\n",
            "состояние 4268\n",
            "və 4226\n",
            "arxasinda 3962\n",
            "restaraninin 3959\n",
            "orsk 3707\n",
            "не 3664\n",
            "отличном 3652\n",
            "indesit 3577\n",
            "ucuz 3544\n",
            "1 3493\n",
            "рабочий 3393\n",
            "veziyyetdedi 3384\n",
            "работает 3359\n",
            "sakit 3348\n",
            "samsung 3345\n",
            "soyuducular 3345\n",
            "islek 3242\n",
            "nord 3237\n",
            "az 3237\n",
            "odenisle 3153\n",
            "высота 3068\n",
            "edin 3067\n",
            "olar 3064\n",
            "qiymete 3059\n",
            "vəziyyətdədir 3036\n",
            "yaxındı 3034\n",
            "3 3029\n",
            "aliciya 3015\n",
            "verilir 3006\n",
            "yaxin 2994\n",
            "ay 2993\n",
            "çinar 2958\n",
            "iki 2905\n",
            "soyuducusu 2836\n",
            "no 2823\n",
            "soyuducularimiz 2809\n",
            "lg 2790\n",
            "heç 2787\n",
            "işlek 2780\n",
            "yaxsi 2722\n",
            "mebel 2684\n",
            "cox 2667\n",
            "işleyir 2665\n",
            "refrigerator 2660\n",
            "frost 2651\n",
            "olacaq 2642\n",
            "evinin 2633\n",
            "izmir 2583\n",
            "padvalina 2564\n",
            "dusun 2564\n",
            "bilersiz 2474\n",
            "и 2452\n",
            "с 2450\n",
            "новый 2412\n",
            "veziyetdedi 2336\n"
          ],
          "name": "stdout"
        }
      ]
    },
    {
      "cell_type": "markdown",
      "metadata": {
        "id": "KPLZx9Wisq1T",
        "colab_type": "text"
      },
      "source": [
        "As all the text data is unstructered and presented in different languages, we wont use it anymore. However we will leave the length of the title and decription, as we think that this values will be useful for our predictions"
      ]
    },
    {
      "cell_type": "code",
      "metadata": {
        "id": "MqwZ5JHOtMl8",
        "colab_type": "code",
        "colab": {
          "base_uri": "https://localhost:8080/",
          "height": 299
        },
        "outputId": "62a42c76-d152-4742-d1ac-812b3c3d198c"
      },
      "source": [
        "df = df.drop(['title', 'description', 'image', 'city_id', 'country_id'], axis=1)\n",
        "df.head()"
      ],
      "execution_count": 659,
      "outputs": [
        {
          "output_type": "execute_result",
          "data": {
            "text/html": [
              "<div>\n",
              "<style scoped>\n",
              "    .dataframe tbody tr th:only-of-type {\n",
              "        vertical-align: middle;\n",
              "    }\n",
              "\n",
              "    .dataframe tbody tr th {\n",
              "        vertical-align: top;\n",
              "    }\n",
              "\n",
              "    .dataframe thead th {\n",
              "        text-align: right;\n",
              "    }\n",
              "</style>\n",
              "<table border=\"1\" class=\"dataframe\">\n",
              "  <thead>\n",
              "    <tr style=\"text-align: right;\">\n",
              "      <th></th>\n",
              "      <th>title_len</th>\n",
              "      <th>desc_len</th>\n",
              "      <th>completeness</th>\n",
              "      <th>price</th>\n",
              "      <th>currency</th>\n",
              "      <th>price_negotiable</th>\n",
              "      <th>created_time</th>\n",
              "      <th>deactivated_time</th>\n",
              "      <th>image_count</th>\n",
              "      <th>Condition</th>\n",
              "      <th>Color</th>\n",
              "      <th>Type</th>\n",
              "      <th>Freezer</th>\n",
              "      <th>Delivery</th>\n",
              "      <th>views</th>\n",
              "    </tr>\n",
              "  </thead>\n",
              "  <tbody>\n",
              "    <tr>\n",
              "      <th>0</th>\n",
              "      <td>59</td>\n",
              "      <td>59</td>\n",
              "      <td>73</td>\n",
              "      <td>NaN</td>\n",
              "      <td>NaN</td>\n",
              "      <td>True</td>\n",
              "      <td>2019-09-15 13:46:22+00</td>\n",
              "      <td>2019-09-25 13:31:32+00</td>\n",
              "      <td>2.0</td>\n",
              "      <td>Used</td>\n",
              "      <td>white</td>\n",
              "      <td>Double Chamber</td>\n",
              "      <td>Bottom</td>\n",
              "      <td>NaN</td>\n",
              "      <td>324.0</td>\n",
              "    </tr>\n",
              "    <tr>\n",
              "      <th>1</th>\n",
              "      <td>36</td>\n",
              "      <td>293</td>\n",
              "      <td>59</td>\n",
              "      <td>18000.0</td>\n",
              "      <td>KGS</td>\n",
              "      <td>False</td>\n",
              "      <td>2018-11-15 01:27:03+00</td>\n",
              "      <td>2019-01-08 15:39:00+00</td>\n",
              "      <td>1.0</td>\n",
              "      <td>NaN</td>\n",
              "      <td>NaN</td>\n",
              "      <td>NaN</td>\n",
              "      <td>NaN</td>\n",
              "      <td>NaN</td>\n",
              "      <td>169.0</td>\n",
              "    </tr>\n",
              "    <tr>\n",
              "      <th>2</th>\n",
              "      <td>0</td>\n",
              "      <td>0</td>\n",
              "      <td>19</td>\n",
              "      <td>NaN</td>\n",
              "      <td>NaN</td>\n",
              "      <td>True</td>\n",
              "      <td>2019-05-29 03:46:09+00</td>\n",
              "      <td>2019-07-15 05:33:48+00</td>\n",
              "      <td>1.0</td>\n",
              "      <td>NaN</td>\n",
              "      <td>NaN</td>\n",
              "      <td>NaN</td>\n",
              "      <td>NaN</td>\n",
              "      <td>NaN</td>\n",
              "      <td>248.0</td>\n",
              "    </tr>\n",
              "    <tr>\n",
              "      <th>3</th>\n",
              "      <td>13</td>\n",
              "      <td>13</td>\n",
              "      <td>49</td>\n",
              "      <td>10000.0</td>\n",
              "      <td>KGS</td>\n",
              "      <td>False</td>\n",
              "      <td>2019-09-25 07:49:26+00</td>\n",
              "      <td>2019-09-25 15:27:39+00</td>\n",
              "      <td>1.0</td>\n",
              "      <td>Used</td>\n",
              "      <td>NaN</td>\n",
              "      <td>NaN</td>\n",
              "      <td>NaN</td>\n",
              "      <td>NaN</td>\n",
              "      <td>64.0</td>\n",
              "    </tr>\n",
              "    <tr>\n",
              "      <th>4</th>\n",
              "      <td>0</td>\n",
              "      <td>0</td>\n",
              "      <td>76</td>\n",
              "      <td>5000.0</td>\n",
              "      <td>KGS</td>\n",
              "      <td>False</td>\n",
              "      <td>2019-10-28 03:37:21+00</td>\n",
              "      <td>NaN</td>\n",
              "      <td>3.0</td>\n",
              "      <td>Used</td>\n",
              "      <td>white</td>\n",
              "      <td>Single Chamber</td>\n",
              "      <td>Top</td>\n",
              "      <td>NaN</td>\n",
              "      <td>1485.0</td>\n",
              "    </tr>\n",
              "  </tbody>\n",
              "</table>\n",
              "</div>"
            ],
            "text/plain": [
              "   title_len  desc_len  completeness  ...  Freezer Delivery   views\n",
              "0         59        59            73  ...   Bottom      NaN   324.0\n",
              "1         36       293            59  ...      NaN      NaN   169.0\n",
              "2          0         0            19  ...      NaN      NaN   248.0\n",
              "3         13        13            49  ...      NaN      NaN    64.0\n",
              "4          0         0            76  ...      Top      NaN  1485.0\n",
              "\n",
              "[5 rows x 15 columns]"
            ]
          },
          "metadata": {
            "tags": []
          },
          "execution_count": 659
        }
      ]
    },
    {
      "cell_type": "code",
      "metadata": {
        "id": "pBIMzgH6uUiv",
        "colab_type": "code",
        "colab": {
          "base_uri": "https://localhost:8080/",
          "height": 299
        },
        "outputId": "640f6584-ef06-4834-9332-b3bb21868ca7"
      },
      "source": [
        "df = df[df['price'].notna() & df['deactivated_time'].notna() & df['views'].notna()]\n",
        "df.head()"
      ],
      "execution_count": 660,
      "outputs": [
        {
          "output_type": "execute_result",
          "data": {
            "text/html": [
              "<div>\n",
              "<style scoped>\n",
              "    .dataframe tbody tr th:only-of-type {\n",
              "        vertical-align: middle;\n",
              "    }\n",
              "\n",
              "    .dataframe tbody tr th {\n",
              "        vertical-align: top;\n",
              "    }\n",
              "\n",
              "    .dataframe thead th {\n",
              "        text-align: right;\n",
              "    }\n",
              "</style>\n",
              "<table border=\"1\" class=\"dataframe\">\n",
              "  <thead>\n",
              "    <tr style=\"text-align: right;\">\n",
              "      <th></th>\n",
              "      <th>title_len</th>\n",
              "      <th>desc_len</th>\n",
              "      <th>completeness</th>\n",
              "      <th>price</th>\n",
              "      <th>currency</th>\n",
              "      <th>price_negotiable</th>\n",
              "      <th>created_time</th>\n",
              "      <th>deactivated_time</th>\n",
              "      <th>image_count</th>\n",
              "      <th>Condition</th>\n",
              "      <th>Color</th>\n",
              "      <th>Type</th>\n",
              "      <th>Freezer</th>\n",
              "      <th>Delivery</th>\n",
              "      <th>views</th>\n",
              "    </tr>\n",
              "  </thead>\n",
              "  <tbody>\n",
              "    <tr>\n",
              "      <th>1</th>\n",
              "      <td>36</td>\n",
              "      <td>293</td>\n",
              "      <td>59</td>\n",
              "      <td>18000.0</td>\n",
              "      <td>KGS</td>\n",
              "      <td>False</td>\n",
              "      <td>2018-11-15 01:27:03+00</td>\n",
              "      <td>2019-01-08 15:39:00+00</td>\n",
              "      <td>1.0</td>\n",
              "      <td>NaN</td>\n",
              "      <td>NaN</td>\n",
              "      <td>NaN</td>\n",
              "      <td>NaN</td>\n",
              "      <td>NaN</td>\n",
              "      <td>169.0</td>\n",
              "    </tr>\n",
              "    <tr>\n",
              "      <th>3</th>\n",
              "      <td>13</td>\n",
              "      <td>13</td>\n",
              "      <td>49</td>\n",
              "      <td>10000.0</td>\n",
              "      <td>KGS</td>\n",
              "      <td>False</td>\n",
              "      <td>2019-09-25 07:49:26+00</td>\n",
              "      <td>2019-09-25 15:27:39+00</td>\n",
              "      <td>1.0</td>\n",
              "      <td>Used</td>\n",
              "      <td>NaN</td>\n",
              "      <td>NaN</td>\n",
              "      <td>NaN</td>\n",
              "      <td>NaN</td>\n",
              "      <td>64.0</td>\n",
              "    </tr>\n",
              "    <tr>\n",
              "      <th>7</th>\n",
              "      <td>19</td>\n",
              "      <td>19</td>\n",
              "      <td>71</td>\n",
              "      <td>3000.0</td>\n",
              "      <td>KGS</td>\n",
              "      <td>False</td>\n",
              "      <td>2019-09-22 21:18:37+00</td>\n",
              "      <td>2019-09-23 13:45:37+00</td>\n",
              "      <td>1.0</td>\n",
              "      <td>Used</td>\n",
              "      <td>white</td>\n",
              "      <td>Double Chamber</td>\n",
              "      <td>Bottom</td>\n",
              "      <td>NaN</td>\n",
              "      <td>110.0</td>\n",
              "    </tr>\n",
              "    <tr>\n",
              "      <th>8</th>\n",
              "      <td>40</td>\n",
              "      <td>40</td>\n",
              "      <td>86</td>\n",
              "      <td>4000.0</td>\n",
              "      <td>KGS</td>\n",
              "      <td>False</td>\n",
              "      <td>2019-11-26 18:59:46+00</td>\n",
              "      <td>2019-12-21 10:41:57+00</td>\n",
              "      <td>3.0</td>\n",
              "      <td>Used</td>\n",
              "      <td>white</td>\n",
              "      <td>Double Chamber</td>\n",
              "      <td>Top</td>\n",
              "      <td>NaN</td>\n",
              "      <td>1122.0</td>\n",
              "    </tr>\n",
              "    <tr>\n",
              "      <th>9</th>\n",
              "      <td>48</td>\n",
              "      <td>48</td>\n",
              "      <td>92</td>\n",
              "      <td>10200.0</td>\n",
              "      <td>KGS</td>\n",
              "      <td>False</td>\n",
              "      <td>2019-09-21 14:24:26+00</td>\n",
              "      <td>2019-11-03 19:02:24+00</td>\n",
              "      <td>6.0</td>\n",
              "      <td>Used</td>\n",
              "      <td>white</td>\n",
              "      <td>Double Chamber</td>\n",
              "      <td>Bottom</td>\n",
              "      <td>NaN</td>\n",
              "      <td>1035.0</td>\n",
              "    </tr>\n",
              "  </tbody>\n",
              "</table>\n",
              "</div>"
            ],
            "text/plain": [
              "   title_len  desc_len  completeness  ...  Freezer Delivery   views\n",
              "1         36       293            59  ...      NaN      NaN   169.0\n",
              "3         13        13            49  ...      NaN      NaN    64.0\n",
              "7         19        19            71  ...   Bottom      NaN   110.0\n",
              "8         40        40            86  ...      Top      NaN  1122.0\n",
              "9         48        48            92  ...   Bottom      NaN  1035.0\n",
              "\n",
              "[5 rows x 15 columns]"
            ]
          },
          "metadata": {
            "tags": []
          },
          "execution_count": 660
        }
      ]
    },
    {
      "cell_type": "code",
      "metadata": {
        "id": "QaziuotKug49",
        "colab_type": "code",
        "colab": {
          "base_uri": "https://localhost:8080/",
          "height": 299
        },
        "outputId": "3a2c031a-3bbb-41b0-e534-19945da85468"
      },
      "source": [
        "df = df[df['price'].notna() & df['deactivated_time'].notna()]\n",
        "df.head()"
      ],
      "execution_count": 661,
      "outputs": [
        {
          "output_type": "execute_result",
          "data": {
            "text/html": [
              "<div>\n",
              "<style scoped>\n",
              "    .dataframe tbody tr th:only-of-type {\n",
              "        vertical-align: middle;\n",
              "    }\n",
              "\n",
              "    .dataframe tbody tr th {\n",
              "        vertical-align: top;\n",
              "    }\n",
              "\n",
              "    .dataframe thead th {\n",
              "        text-align: right;\n",
              "    }\n",
              "</style>\n",
              "<table border=\"1\" class=\"dataframe\">\n",
              "  <thead>\n",
              "    <tr style=\"text-align: right;\">\n",
              "      <th></th>\n",
              "      <th>title_len</th>\n",
              "      <th>desc_len</th>\n",
              "      <th>completeness</th>\n",
              "      <th>price</th>\n",
              "      <th>currency</th>\n",
              "      <th>price_negotiable</th>\n",
              "      <th>created_time</th>\n",
              "      <th>deactivated_time</th>\n",
              "      <th>image_count</th>\n",
              "      <th>Condition</th>\n",
              "      <th>Color</th>\n",
              "      <th>Type</th>\n",
              "      <th>Freezer</th>\n",
              "      <th>Delivery</th>\n",
              "      <th>views</th>\n",
              "    </tr>\n",
              "  </thead>\n",
              "  <tbody>\n",
              "    <tr>\n",
              "      <th>1</th>\n",
              "      <td>36</td>\n",
              "      <td>293</td>\n",
              "      <td>59</td>\n",
              "      <td>18000.0</td>\n",
              "      <td>KGS</td>\n",
              "      <td>False</td>\n",
              "      <td>2018-11-15 01:27:03+00</td>\n",
              "      <td>2019-01-08 15:39:00+00</td>\n",
              "      <td>1.0</td>\n",
              "      <td>NaN</td>\n",
              "      <td>NaN</td>\n",
              "      <td>NaN</td>\n",
              "      <td>NaN</td>\n",
              "      <td>NaN</td>\n",
              "      <td>169.0</td>\n",
              "    </tr>\n",
              "    <tr>\n",
              "      <th>3</th>\n",
              "      <td>13</td>\n",
              "      <td>13</td>\n",
              "      <td>49</td>\n",
              "      <td>10000.0</td>\n",
              "      <td>KGS</td>\n",
              "      <td>False</td>\n",
              "      <td>2019-09-25 07:49:26+00</td>\n",
              "      <td>2019-09-25 15:27:39+00</td>\n",
              "      <td>1.0</td>\n",
              "      <td>Used</td>\n",
              "      <td>NaN</td>\n",
              "      <td>NaN</td>\n",
              "      <td>NaN</td>\n",
              "      <td>NaN</td>\n",
              "      <td>64.0</td>\n",
              "    </tr>\n",
              "    <tr>\n",
              "      <th>7</th>\n",
              "      <td>19</td>\n",
              "      <td>19</td>\n",
              "      <td>71</td>\n",
              "      <td>3000.0</td>\n",
              "      <td>KGS</td>\n",
              "      <td>False</td>\n",
              "      <td>2019-09-22 21:18:37+00</td>\n",
              "      <td>2019-09-23 13:45:37+00</td>\n",
              "      <td>1.0</td>\n",
              "      <td>Used</td>\n",
              "      <td>white</td>\n",
              "      <td>Double Chamber</td>\n",
              "      <td>Bottom</td>\n",
              "      <td>NaN</td>\n",
              "      <td>110.0</td>\n",
              "    </tr>\n",
              "    <tr>\n",
              "      <th>8</th>\n",
              "      <td>40</td>\n",
              "      <td>40</td>\n",
              "      <td>86</td>\n",
              "      <td>4000.0</td>\n",
              "      <td>KGS</td>\n",
              "      <td>False</td>\n",
              "      <td>2019-11-26 18:59:46+00</td>\n",
              "      <td>2019-12-21 10:41:57+00</td>\n",
              "      <td>3.0</td>\n",
              "      <td>Used</td>\n",
              "      <td>white</td>\n",
              "      <td>Double Chamber</td>\n",
              "      <td>Top</td>\n",
              "      <td>NaN</td>\n",
              "      <td>1122.0</td>\n",
              "    </tr>\n",
              "    <tr>\n",
              "      <th>9</th>\n",
              "      <td>48</td>\n",
              "      <td>48</td>\n",
              "      <td>92</td>\n",
              "      <td>10200.0</td>\n",
              "      <td>KGS</td>\n",
              "      <td>False</td>\n",
              "      <td>2019-09-21 14:24:26+00</td>\n",
              "      <td>2019-11-03 19:02:24+00</td>\n",
              "      <td>6.0</td>\n",
              "      <td>Used</td>\n",
              "      <td>white</td>\n",
              "      <td>Double Chamber</td>\n",
              "      <td>Bottom</td>\n",
              "      <td>NaN</td>\n",
              "      <td>1035.0</td>\n",
              "    </tr>\n",
              "  </tbody>\n",
              "</table>\n",
              "</div>"
            ],
            "text/plain": [
              "   title_len  desc_len  completeness  ...  Freezer Delivery   views\n",
              "1         36       293            59  ...      NaN      NaN   169.0\n",
              "3         13        13            49  ...      NaN      NaN    64.0\n",
              "7         19        19            71  ...   Bottom      NaN   110.0\n",
              "8         40        40            86  ...      Top      NaN  1122.0\n",
              "9         48        48            92  ...   Bottom      NaN  1035.0\n",
              "\n",
              "[5 rows x 15 columns]"
            ]
          },
          "metadata": {
            "tags": []
          },
          "execution_count": 661
        }
      ]
    },
    {
      "cell_type": "code",
      "metadata": {
        "id": "GpSXmwvuu7PF",
        "colab_type": "code",
        "colab": {
          "base_uri": "https://localhost:8080/",
          "height": 590
        },
        "outputId": "18a5cdd8-9bec-44d1-d6df-4cf8e69dcc2d"
      },
      "source": [
        "df "
      ],
      "execution_count": 662,
      "outputs": [
        {
          "output_type": "execute_result",
          "data": {
            "text/html": [
              "<div>\n",
              "<style scoped>\n",
              "    .dataframe tbody tr th:only-of-type {\n",
              "        vertical-align: middle;\n",
              "    }\n",
              "\n",
              "    .dataframe tbody tr th {\n",
              "        vertical-align: top;\n",
              "    }\n",
              "\n",
              "    .dataframe thead th {\n",
              "        text-align: right;\n",
              "    }\n",
              "</style>\n",
              "<table border=\"1\" class=\"dataframe\">\n",
              "  <thead>\n",
              "    <tr style=\"text-align: right;\">\n",
              "      <th></th>\n",
              "      <th>title_len</th>\n",
              "      <th>desc_len</th>\n",
              "      <th>completeness</th>\n",
              "      <th>price</th>\n",
              "      <th>currency</th>\n",
              "      <th>price_negotiable</th>\n",
              "      <th>created_time</th>\n",
              "      <th>deactivated_time</th>\n",
              "      <th>image_count</th>\n",
              "      <th>Condition</th>\n",
              "      <th>Color</th>\n",
              "      <th>Type</th>\n",
              "      <th>Freezer</th>\n",
              "      <th>Delivery</th>\n",
              "      <th>views</th>\n",
              "    </tr>\n",
              "  </thead>\n",
              "  <tbody>\n",
              "    <tr>\n",
              "      <th>1</th>\n",
              "      <td>36</td>\n",
              "      <td>293</td>\n",
              "      <td>59</td>\n",
              "      <td>18000.0</td>\n",
              "      <td>KGS</td>\n",
              "      <td>False</td>\n",
              "      <td>2018-11-15 01:27:03+00</td>\n",
              "      <td>2019-01-08 15:39:00+00</td>\n",
              "      <td>1.0</td>\n",
              "      <td>NaN</td>\n",
              "      <td>NaN</td>\n",
              "      <td>NaN</td>\n",
              "      <td>NaN</td>\n",
              "      <td>NaN</td>\n",
              "      <td>169.0</td>\n",
              "    </tr>\n",
              "    <tr>\n",
              "      <th>3</th>\n",
              "      <td>13</td>\n",
              "      <td>13</td>\n",
              "      <td>49</td>\n",
              "      <td>10000.0</td>\n",
              "      <td>KGS</td>\n",
              "      <td>False</td>\n",
              "      <td>2019-09-25 07:49:26+00</td>\n",
              "      <td>2019-09-25 15:27:39+00</td>\n",
              "      <td>1.0</td>\n",
              "      <td>Used</td>\n",
              "      <td>NaN</td>\n",
              "      <td>NaN</td>\n",
              "      <td>NaN</td>\n",
              "      <td>NaN</td>\n",
              "      <td>64.0</td>\n",
              "    </tr>\n",
              "    <tr>\n",
              "      <th>7</th>\n",
              "      <td>19</td>\n",
              "      <td>19</td>\n",
              "      <td>71</td>\n",
              "      <td>3000.0</td>\n",
              "      <td>KGS</td>\n",
              "      <td>False</td>\n",
              "      <td>2019-09-22 21:18:37+00</td>\n",
              "      <td>2019-09-23 13:45:37+00</td>\n",
              "      <td>1.0</td>\n",
              "      <td>Used</td>\n",
              "      <td>white</td>\n",
              "      <td>Double Chamber</td>\n",
              "      <td>Bottom</td>\n",
              "      <td>NaN</td>\n",
              "      <td>110.0</td>\n",
              "    </tr>\n",
              "    <tr>\n",
              "      <th>8</th>\n",
              "      <td>40</td>\n",
              "      <td>40</td>\n",
              "      <td>86</td>\n",
              "      <td>4000.0</td>\n",
              "      <td>KGS</td>\n",
              "      <td>False</td>\n",
              "      <td>2019-11-26 18:59:46+00</td>\n",
              "      <td>2019-12-21 10:41:57+00</td>\n",
              "      <td>3.0</td>\n",
              "      <td>Used</td>\n",
              "      <td>white</td>\n",
              "      <td>Double Chamber</td>\n",
              "      <td>Top</td>\n",
              "      <td>NaN</td>\n",
              "      <td>1122.0</td>\n",
              "    </tr>\n",
              "    <tr>\n",
              "      <th>9</th>\n",
              "      <td>48</td>\n",
              "      <td>48</td>\n",
              "      <td>92</td>\n",
              "      <td>10200.0</td>\n",
              "      <td>KGS</td>\n",
              "      <td>False</td>\n",
              "      <td>2019-09-21 14:24:26+00</td>\n",
              "      <td>2019-11-03 19:02:24+00</td>\n",
              "      <td>6.0</td>\n",
              "      <td>Used</td>\n",
              "      <td>white</td>\n",
              "      <td>Double Chamber</td>\n",
              "      <td>Bottom</td>\n",
              "      <td>NaN</td>\n",
              "      <td>1035.0</td>\n",
              "    </tr>\n",
              "    <tr>\n",
              "      <th>...</th>\n",
              "      <td>...</td>\n",
              "      <td>...</td>\n",
              "      <td>...</td>\n",
              "      <td>...</td>\n",
              "      <td>...</td>\n",
              "      <td>...</td>\n",
              "      <td>...</td>\n",
              "      <td>...</td>\n",
              "      <td>...</td>\n",
              "      <td>...</td>\n",
              "      <td>...</td>\n",
              "      <td>...</td>\n",
              "      <td>...</td>\n",
              "      <td>...</td>\n",
              "      <td>...</td>\n",
              "    </tr>\n",
              "    <tr>\n",
              "      <th>85516</th>\n",
              "      <td>67</td>\n",
              "      <td>101</td>\n",
              "      <td>75</td>\n",
              "      <td>200.0</td>\n",
              "      <td>AZN</td>\n",
              "      <td>False</td>\n",
              "      <td>2020-01-26 08:33:41+00</td>\n",
              "      <td>2020-01-26 17:34:09+00</td>\n",
              "      <td>6.0</td>\n",
              "      <td>NaN</td>\n",
              "      <td>NaN</td>\n",
              "      <td>NaN</td>\n",
              "      <td>NaN</td>\n",
              "      <td>NaN</td>\n",
              "      <td>118.0</td>\n",
              "    </tr>\n",
              "    <tr>\n",
              "      <th>85517</th>\n",
              "      <td>69</td>\n",
              "      <td>156</td>\n",
              "      <td>100</td>\n",
              "      <td>160.0</td>\n",
              "      <td>AZN</td>\n",
              "      <td>False</td>\n",
              "      <td>2020-01-26 17:34:27+00</td>\n",
              "      <td>2020-01-26 20:16:40+00</td>\n",
              "      <td>5.0</td>\n",
              "      <td>Used</td>\n",
              "      <td>grey</td>\n",
              "      <td>Double Chamber</td>\n",
              "      <td>Bottom</td>\n",
              "      <td>NaN</td>\n",
              "      <td>100.0</td>\n",
              "    </tr>\n",
              "    <tr>\n",
              "      <th>85519</th>\n",
              "      <td>68</td>\n",
              "      <td>119</td>\n",
              "      <td>100</td>\n",
              "      <td>160.0</td>\n",
              "      <td>AZN</td>\n",
              "      <td>False</td>\n",
              "      <td>2020-01-27 08:08:50+00</td>\n",
              "      <td>2020-01-27 12:46:57+00</td>\n",
              "      <td>4.0</td>\n",
              "      <td>Used</td>\n",
              "      <td>grey</td>\n",
              "      <td>Double Chamber</td>\n",
              "      <td>Bottom</td>\n",
              "      <td>NaN</td>\n",
              "      <td>64.0</td>\n",
              "    </tr>\n",
              "    <tr>\n",
              "      <th>85528</th>\n",
              "      <td>0</td>\n",
              "      <td>0</td>\n",
              "      <td>70</td>\n",
              "      <td>250.0</td>\n",
              "      <td>AZN</td>\n",
              "      <td>False</td>\n",
              "      <td>2020-03-20 13:58:36+00</td>\n",
              "      <td>2020-03-26 22:44:13+00</td>\n",
              "      <td>4.0</td>\n",
              "      <td>Used</td>\n",
              "      <td>white</td>\n",
              "      <td>Refrigerator Showcase</td>\n",
              "      <td>NaN</td>\n",
              "      <td>NaN</td>\n",
              "      <td>260.0</td>\n",
              "    </tr>\n",
              "    <tr>\n",
              "      <th>85531</th>\n",
              "      <td>48</td>\n",
              "      <td>188</td>\n",
              "      <td>84</td>\n",
              "      <td>1000.0</td>\n",
              "      <td>AZN</td>\n",
              "      <td>False</td>\n",
              "      <td>2020-04-24 20:52:19+00</td>\n",
              "      <td>2020-04-30 08:47:41+00</td>\n",
              "      <td>1.0</td>\n",
              "      <td>New</td>\n",
              "      <td>white</td>\n",
              "      <td>Double Chamber</td>\n",
              "      <td>Top</td>\n",
              "      <td>Paid delivery</td>\n",
              "      <td>64.0</td>\n",
              "    </tr>\n",
              "  </tbody>\n",
              "</table>\n",
              "<p>29916 rows × 15 columns</p>\n",
              "</div>"
            ],
            "text/plain": [
              "       title_len  desc_len  completeness  ...  Freezer       Delivery   views\n",
              "1             36       293            59  ...      NaN            NaN   169.0\n",
              "3             13        13            49  ...      NaN            NaN    64.0\n",
              "7             19        19            71  ...   Bottom            NaN   110.0\n",
              "8             40        40            86  ...      Top            NaN  1122.0\n",
              "9             48        48            92  ...   Bottom            NaN  1035.0\n",
              "...          ...       ...           ...  ...      ...            ...     ...\n",
              "85516         67       101            75  ...      NaN            NaN   118.0\n",
              "85517         69       156           100  ...   Bottom            NaN   100.0\n",
              "85519         68       119           100  ...   Bottom            NaN    64.0\n",
              "85528          0         0            70  ...      NaN            NaN   260.0\n",
              "85531         48       188            84  ...      Top  Paid delivery    64.0\n",
              "\n",
              "[29916 rows x 15 columns]"
            ]
          },
          "metadata": {
            "tags": []
          },
          "execution_count": 662
        }
      ]
    },
    {
      "cell_type": "markdown",
      "metadata": {
        "id": "cWD3CGuRi2LH",
        "colab_type": "text"
      },
      "source": [
        "Convert date columns to datetime type:"
      ]
    },
    {
      "cell_type": "code",
      "metadata": {
        "id": "CnzAR2nZi1o7",
        "colab_type": "code",
        "colab": {}
      },
      "source": [
        "df['created_time'] =  pd.to_datetime(df['created_time'],).dt.floor('H')\n",
        "df['deactivated_time'] =  pd.to_datetime(df['deactivated_time']).dt.floor('H')\n"
      ],
      "execution_count": 663,
      "outputs": []
    },
    {
      "cell_type": "markdown",
      "metadata": {
        "id": "t0q5h1YPs37X",
        "colab_type": "text"
      },
      "source": [
        "Plot of the ads activating frequency:"
      ]
    },
    {
      "cell_type": "code",
      "metadata": {
        "id": "6xtqgGXnr4RR",
        "colab_type": "code",
        "colab": {
          "base_uri": "https://localhost:8080/",
          "height": 456
        },
        "outputId": "5c658abc-8fc9-49bc-cb11-4cd57c36a0d1"
      },
      "source": [
        "fig = plt.figure(figsize=(16,8))\n",
        "plt.title(\"Ads Activation\")\n",
        "df.created_time.dt.floor('D').value_counts().plot(rot = 0);"
      ],
      "execution_count": 664,
      "outputs": [
        {
          "output_type": "display_data",
          "data": {
            "image/png": "[encoded data removed]",
            "text/plain": [
              "<Figure size 1152x576 with 1 Axes>"
            ]
          },
          "metadata": {
            "tags": [],
            "needs_background": "light"
          }
        }
      ]
    },
    {
      "cell_type": "markdown",
      "metadata": {
        "id": "olXvGHfGtJvW",
        "colab_type": "text"
      },
      "source": [
        "And deactivating:"
      ]
    },
    {
      "cell_type": "code",
      "metadata": {
        "id": "R9BfeR4qtFTl",
        "colab_type": "code",
        "colab": {
          "base_uri": "https://localhost:8080/",
          "height": 456
        },
        "outputId": "a1ecb936-fdda-4959-c003-ff564a652482"
      },
      "source": [
        "fig = plt.figure(figsize=(16,8))\n",
        "plt.title(\"Ads Deactivation\")\n",
        "df.deactivated_time.dt.floor('D').value_counts().plot(rot = 0);"
      ],
      "execution_count": 665,
      "outputs": [
        {
          "output_type": "display_data",
          "data": {
            "image/png": "[encoded data removed]",
            "text/plain": [
              "<Figure size 1152x576 with 1 Axes>"
            ]
          },
          "metadata": {
            "tags": [],
            "needs_background": "light"
          }
        }
      ]
    },
    {
      "cell_type": "markdown",
      "metadata": {
        "id": "q4dc2G3xkQZU",
        "colab_type": "text"
      },
      "source": [
        "As a good measure of an add quality we will use difference between start and sell dates. We had an idea to multiply this value on number of ad views. So,measuring ads with equal active time, the one that have less views - would be better. However, we refused this idea, as usage of ad views parameter is really contradictive and brings some difficulties to this metric.\n",
        "\n",
        "Obtaining the time when the ad was active. We will measure it in hours to catch all the possible scenarions:\n",
        "\n"
      ]
    },
    {
      "cell_type": "code",
      "metadata": {
        "id": "MSTm__IOjNhM",
        "colab_type": "code",
        "colab": {}
      },
      "source": [
        "df['active_time'] = -(df['created_time'] - df['deactivated_time']).astype('timedelta64[h]')"
      ],
      "execution_count": 666,
      "outputs": []
    },
    {
      "cell_type": "code",
      "metadata": {
        "id": "nCIHJVL8tsZ0",
        "colab_type": "code",
        "colab": {}
      },
      "source": [
        "df = df.drop(['created_time', 'deactivated_time', 'views'], axis=1)"
      ],
      "execution_count": 667,
      "outputs": []
    },
    {
      "cell_type": "markdown",
      "metadata": {
        "id": "3fhTGq3Zks7q",
        "colab_type": "text"
      },
      "source": [
        "Lets convert all the prices to USD:"
      ]
    },
    {
      "cell_type": "code",
      "metadata": {
        "id": "tdvHfi0fkW-m",
        "colab_type": "code",
        "colab": {
          "base_uri": "https://localhost:8080/",
          "height": 34
        },
        "outputId": "36184a15-b1ca-4854-aff6-4bd7410c1a73"
      },
      "source": [
        "df.currency.unique()"
      ],
      "execution_count": 668,
      "outputs": [
        {
          "output_type": "execute_result",
          "data": {
            "text/plain": [
              "array(['KGS', 'USD', 'AZN'], dtype=object)"
            ]
          },
          "metadata": {
            "tags": []
          },
          "execution_count": 668
        }
      ]
    },
    {
      "cell_type": "code",
      "metadata": {
        "id": "qe1SOgu4kqfq",
        "colab_type": "code",
        "colab": {}
      },
      "source": [
        "df.loc[df['currency'] =='KGS', 'price']*=0.013\n",
        "df.loc[df['currency'] =='AZN', 'price']*=0.59\n",
        "df = df.drop(['currency'], axis = 1)"
      ],
      "execution_count": 669,
      "outputs": []
    },
    {
      "cell_type": "code",
      "metadata": {
        "id": "7CoA6U0QA-90",
        "colab_type": "code",
        "colab": {
          "base_uri": "https://localhost:8080/",
          "height": 195
        },
        "outputId": "c216582c-bea1-4f86-cc92-6c08bea44c9b"
      },
      "source": [
        "df.head()"
      ],
      "execution_count": 670,
      "outputs": [
        {
          "output_type": "execute_result",
          "data": {
            "text/html": [
              "<div>\n",
              "<style scoped>\n",
              "    .dataframe tbody tr th:only-of-type {\n",
              "        vertical-align: middle;\n",
              "    }\n",
              "\n",
              "    .dataframe tbody tr th {\n",
              "        vertical-align: top;\n",
              "    }\n",
              "\n",
              "    .dataframe thead th {\n",
              "        text-align: right;\n",
              "    }\n",
              "</style>\n",
              "<table border=\"1\" class=\"dataframe\">\n",
              "  <thead>\n",
              "    <tr style=\"text-align: right;\">\n",
              "      <th></th>\n",
              "      <th>title_len</th>\n",
              "      <th>desc_len</th>\n",
              "      <th>completeness</th>\n",
              "      <th>price</th>\n",
              "      <th>price_negotiable</th>\n",
              "      <th>image_count</th>\n",
              "      <th>Condition</th>\n",
              "      <th>Color</th>\n",
              "      <th>Type</th>\n",
              "      <th>Freezer</th>\n",
              "      <th>Delivery</th>\n",
              "      <th>active_time</th>\n",
              "    </tr>\n",
              "  </thead>\n",
              "  <tbody>\n",
              "    <tr>\n",
              "      <th>1</th>\n",
              "      <td>36</td>\n",
              "      <td>293</td>\n",
              "      <td>59</td>\n",
              "      <td>234.0</td>\n",
              "      <td>False</td>\n",
              "      <td>1.0</td>\n",
              "      <td>NaN</td>\n",
              "      <td>NaN</td>\n",
              "      <td>NaN</td>\n",
              "      <td>NaN</td>\n",
              "      <td>NaN</td>\n",
              "      <td>1310.0</td>\n",
              "    </tr>\n",
              "    <tr>\n",
              "      <th>3</th>\n",
              "      <td>13</td>\n",
              "      <td>13</td>\n",
              "      <td>49</td>\n",
              "      <td>130.0</td>\n",
              "      <td>False</td>\n",
              "      <td>1.0</td>\n",
              "      <td>Used</td>\n",
              "      <td>NaN</td>\n",
              "      <td>NaN</td>\n",
              "      <td>NaN</td>\n",
              "      <td>NaN</td>\n",
              "      <td>8.0</td>\n",
              "    </tr>\n",
              "    <tr>\n",
              "      <th>7</th>\n",
              "      <td>19</td>\n",
              "      <td>19</td>\n",
              "      <td>71</td>\n",
              "      <td>39.0</td>\n",
              "      <td>False</td>\n",
              "      <td>1.0</td>\n",
              "      <td>Used</td>\n",
              "      <td>white</td>\n",
              "      <td>Double Chamber</td>\n",
              "      <td>Bottom</td>\n",
              "      <td>NaN</td>\n",
              "      <td>16.0</td>\n",
              "    </tr>\n",
              "    <tr>\n",
              "      <th>8</th>\n",
              "      <td>40</td>\n",
              "      <td>40</td>\n",
              "      <td>86</td>\n",
              "      <td>52.0</td>\n",
              "      <td>False</td>\n",
              "      <td>3.0</td>\n",
              "      <td>Used</td>\n",
              "      <td>white</td>\n",
              "      <td>Double Chamber</td>\n",
              "      <td>Top</td>\n",
              "      <td>NaN</td>\n",
              "      <td>592.0</td>\n",
              "    </tr>\n",
              "    <tr>\n",
              "      <th>9</th>\n",
              "      <td>48</td>\n",
              "      <td>48</td>\n",
              "      <td>92</td>\n",
              "      <td>132.6</td>\n",
              "      <td>False</td>\n",
              "      <td>6.0</td>\n",
              "      <td>Used</td>\n",
              "      <td>white</td>\n",
              "      <td>Double Chamber</td>\n",
              "      <td>Bottom</td>\n",
              "      <td>NaN</td>\n",
              "      <td>1037.0</td>\n",
              "    </tr>\n",
              "  </tbody>\n",
              "</table>\n",
              "</div>"
            ],
            "text/plain": [
              "   title_len  desc_len  completeness  ...  Freezer Delivery  active_time\n",
              "1         36       293            59  ...      NaN      NaN       1310.0\n",
              "3         13        13            49  ...      NaN      NaN          8.0\n",
              "7         19        19            71  ...   Bottom      NaN         16.0\n",
              "8         40        40            86  ...      Top      NaN        592.0\n",
              "9         48        48            92  ...   Bottom      NaN       1037.0\n",
              "\n",
              "[5 rows x 12 columns]"
            ]
          },
          "metadata": {
            "tags": []
          },
          "execution_count": 670
        }
      ]
    },
    {
      "cell_type": "markdown",
      "metadata": {
        "id": "16XNO7DbqFdC",
        "colab_type": "text"
      },
      "source": [
        "Lets obtain what are the most popular colors "
      ]
    },
    {
      "cell_type": "code",
      "metadata": {
        "id": "cnHVZjqPmLPy",
        "colab_type": "code",
        "colab": {
          "base_uri": "https://localhost:8080/",
          "height": 501
        },
        "outputId": "98726479-1270-4664-89b0-dc46403c8f6b"
      },
      "source": [
        "fig = plt.figure(figsize=(16,8))\n",
        "df.Color.value_counts().plot.bar(rot = 0)"
      ],
      "execution_count": 671,
      "outputs": [
        {
          "output_type": "execute_result",
          "data": {
            "text/plain": [
              "<matplotlib.axes._subplots.AxesSubplot at 0x7f12764a3588>"
            ]
          },
          "metadata": {
            "tags": []
          },
          "execution_count": 671
        },
        {
          "output_type": "display_data",
          "data": {
            "image/png": "[encoded data removed]",
            "text/plain": [
              "<Figure size 1152x576 with 1 Axes>"
            ]
          },
          "metadata": {
            "tags": [],
            "needs_background": "light"
          }
        }
      ]
    },
    {
      "cell_type": "markdown",
      "metadata": {
        "id": "Jo7pKadoqL3i",
        "colab_type": "text"
      },
      "source": [
        "As we can see from the chart above, the most popular colors are: White, Grey and Silver ( Silver Iphone, after the imagу check we ensured that this is the color name, not a misplaced ads).\n",
        "Lets assume that this 3 colors are standart and the refrigerators of other colors will be avoided by the customers. So, we will add a dummy varialbe - **standart color**."
      ]
    },
    {
      "cell_type": "code",
      "metadata": {
        "id": "BNWpxtzb_H9a",
        "colab_type": "code",
        "colab": {}
      },
      "source": [
        "df.loc[df['Color'].isin(['white', 'grey', 'Silver Iphone']), 'standart_color'] = 1\n",
        "df.loc[df['standart_color'].isnull() , 'standart_color'] = 0\n",
        "df.loc[df['Color'].isnull(), 'standart_color'] = np.nan\n",
        "\n",
        "df = df.drop(['Color'], axis=1)"
      ],
      "execution_count": 672,
      "outputs": []
    },
    {
      "cell_type": "markdown",
      "metadata": {
        "id": "ZN3GmfIE59eY",
        "colab_type": "text"
      },
      "source": [
        "Lets look on Delivery conditions:"
      ]
    },
    {
      "cell_type": "code",
      "metadata": {
        "id": "uA2VSIlJ6CNd",
        "colab_type": "code",
        "colab": {
          "base_uri": "https://localhost:8080/",
          "height": 52
        },
        "outputId": "dd6f57e5-b472-4b0b-a5e1-32d9cf4133e1"
      },
      "source": [
        "df.Delivery.unique()"
      ],
      "execution_count": 673,
      "outputs": [
        {
          "output_type": "execute_result",
          "data": {
            "text/plain": [
              "array([nan, 'Paid delivery', 'Free delivery', 'Customer pickup',\n",
              "       'Delivered-1'], dtype=object)"
            ]
          },
          "metadata": {
            "tags": []
          },
          "execution_count": 673
        }
      ]
    },
    {
      "cell_type": "code",
      "metadata": {
        "id": "xOf-zFQf_36w",
        "colab_type": "code",
        "colab": {
          "base_uri": "https://localhost:8080/",
          "height": 34
        },
        "outputId": "1665cd66-1e82-4bf1-c119-477a5e679ebe"
      },
      "source": [
        "len(df[df.Delivery.isnull()])"
      ],
      "execution_count": 674,
      "outputs": [
        {
          "output_type": "execute_result",
          "data": {
            "text/plain": [
              "28580"
            ]
          },
          "metadata": {
            "tags": []
          },
          "execution_count": 674
        }
      ]
    },
    {
      "cell_type": "markdown",
      "metadata": {
        "id": "VrNLTgXK6c5X",
        "colab_type": "text"
      },
      "source": [
        "We will assume that if the delivery conditions is not mentioned, than delivery - is paid\n"
      ]
    },
    {
      "cell_type": "code",
      "metadata": {
        "id": "u7h05kED6cgU",
        "colab_type": "code",
        "colab": {}
      },
      "source": [
        "df.loc[df['Delivery'].isnull(), 'Delivery'] = 'Paid delivery'\n",
        "df.loc[df['Delivery'] == 'Delivered-1', 'Delivery'] = 'Free delivery'"
      ],
      "execution_count": 675,
      "outputs": []
    },
    {
      "cell_type": "code",
      "metadata": {
        "id": "RamrvYlb7Z9v",
        "colab_type": "code",
        "colab": {
          "base_uri": "https://localhost:8080/",
          "height": 34
        },
        "outputId": "3767b1fd-bc25-48fd-f3ce-7d958e03d2b2"
      },
      "source": [
        "df.Delivery.unique()"
      ],
      "execution_count": 676,
      "outputs": [
        {
          "output_type": "execute_result",
          "data": {
            "text/plain": [
              "array(['Paid delivery', 'Free delivery', 'Customer pickup'], dtype=object)"
            ]
          },
          "metadata": {
            "tags": []
          },
          "execution_count": 676
        }
      ]
    },
    {
      "cell_type": "code",
      "metadata": {
        "id": "F6Np1jaDuylJ",
        "colab_type": "code",
        "colab": {
          "base_uri": "https://localhost:8080/",
          "height": 501
        },
        "outputId": "13c7f796-8c72-4c3f-fed9-e43e7f08b6de"
      },
      "source": [
        "fig = plt.figure(figsize=(16,8))\n",
        "df.Delivery.value_counts().plot.bar(rot = 0)"
      ],
      "execution_count": 677,
      "outputs": [
        {
          "output_type": "execute_result",
          "data": {
            "text/plain": [
              "<matplotlib.axes._subplots.AxesSubplot at 0x7f1275528c18>"
            ]
          },
          "metadata": {
            "tags": []
          },
          "execution_count": 677
        },
        {
          "output_type": "display_data",
          "data": {
            "image/png": "[encoded data removed]",
            "text/plain": [
              "<Figure size 1152x576 with 1 Axes>"
            ]
          },
          "metadata": {
            "tags": [],
            "needs_background": "light"
          }
        }
      ]
    },
    {
      "cell_type": "markdown",
      "metadata": {
        "id": "V8tdPhJx_Vmd",
        "colab_type": "text"
      },
      "source": [
        "From the chart above we can tell that majority of the ads offer paid delivery"
      ]
    },
    {
      "cell_type": "markdown",
      "metadata": {
        "id": "fqtpsmGiQSB_",
        "colab_type": "text"
      },
      "source": [
        "The last but no the least value is **Freezer**. Lets obtain what is going on there"
      ]
    },
    {
      "cell_type": "code",
      "metadata": {
        "id": "iYRnYiyxQcut",
        "colab_type": "code",
        "colab": {
          "base_uri": "https://localhost:8080/",
          "height": 34
        },
        "outputId": "60a89edc-08ca-4868-9761-b5a022951c43"
      },
      "source": [
        "df.Freezer.unique()"
      ],
      "execution_count": 678,
      "outputs": [
        {
          "output_type": "execute_result",
          "data": {
            "text/plain": [
              "array([nan, 'Bottom', 'Top', 'Without Freezer', 'Left'], dtype=object)"
            ]
          },
          "metadata": {
            "tags": []
          },
          "execution_count": 678
        }
      ]
    },
    {
      "cell_type": "code",
      "metadata": {
        "id": "XyKykuXfRnCt",
        "colab_type": "code",
        "colab": {
          "base_uri": "https://localhost:8080/",
          "height": 502
        },
        "outputId": "ed4f0c5c-7d6e-46cc-a259-2962dd13332e"
      },
      "source": [
        "fig = plt.figure(figsize=(16,8))\n",
        "df.Freezer.value_counts().plot.bar(rot = 0)"
      ],
      "execution_count": 679,
      "outputs": [
        {
          "output_type": "execute_result",
          "data": {
            "text/plain": [
              "<matplotlib.axes._subplots.AxesSubplot at 0x7f127523e518>"
            ]
          },
          "metadata": {
            "tags": []
          },
          "execution_count": 679
        },
        {
          "output_type": "display_data",
          "data": {
            "image/png": "[encoded data removed]",
            "text/plain": [
              "<Figure size 1152x576 with 1 Axes>"
            ]
          },
          "metadata": {
            "tags": [],
            "needs_background": "light"
          }
        }
      ]
    },
    {
      "cell_type": "markdown",
      "metadata": {
        "id": "PBlwwp-xQoD1",
        "colab_type": "text"
      },
      "source": [
        "We will transform this column to the indicator that shows if the freezer is built in refrigerator. Because we guess thar location of freezer does not  really matter.\n"
      ]
    },
    {
      "cell_type": "code",
      "metadata": {
        "id": "fqr2dmsFRMoJ",
        "colab_type": "code",
        "colab": {}
      },
      "source": [
        "df.loc[df['Freezer'].isin(['Bottom', 'Top', 'Left']), 'Freezer'] = 1\n",
        "df.loc[df['Freezer'] == 'Without Freezer', 'Freezer'] = 0"
      ],
      "execution_count": 680,
      "outputs": []
    },
    {
      "cell_type": "code",
      "metadata": {
        "id": "ByE0BgRPRu0V",
        "colab_type": "code",
        "colab": {
          "base_uri": "https://localhost:8080/",
          "height": 501
        },
        "outputId": "05771646-fc65-409c-e618-be8b71360d38"
      },
      "source": [
        "fig = plt.figure(figsize=(16,8))\n",
        "df.Freezer.value_counts().plot.bar(rot = 0)"
      ],
      "execution_count": 681,
      "outputs": [
        {
          "output_type": "execute_result",
          "data": {
            "text/plain": [
              "<matplotlib.axes._subplots.AxesSubplot at 0x7f1274f3b400>"
            ]
          },
          "metadata": {
            "tags": []
          },
          "execution_count": 681
        },
        {
          "output_type": "display_data",
          "data": {
            "image/png": "[encoded data removed]",
            "text/plain": [
              "<Figure size 1152x576 with 1 Axes>"
            ]
          },
          "metadata": {
            "tags": [],
            "needs_background": "light"
          }
        }
      ]
    },
    {
      "cell_type": "markdown",
      "metadata": {
        "id": "n208oDPeSRGD",
        "colab_type": "text"
      },
      "source": [
        "Refrigerator type distribution"
      ]
    },
    {
      "cell_type": "code",
      "metadata": {
        "id": "l3YNTOv-SMOp",
        "colab_type": "code",
        "colab": {
          "base_uri": "https://localhost:8080/",
          "height": 501
        },
        "outputId": "297725dc-ac68-48b0-841f-125bc1356def"
      },
      "source": [
        "fig = plt.figure(figsize=(16,8))\n",
        "df.Type.value_counts().plot.bar(rot = 0)"
      ],
      "execution_count": 682,
      "outputs": [
        {
          "output_type": "execute_result",
          "data": {
            "text/plain": [
              "<matplotlib.axes._subplots.AxesSubplot at 0x7f127525cda0>"
            ]
          },
          "metadata": {
            "tags": []
          },
          "execution_count": 682
        },
        {
          "output_type": "display_data",
          "data": {
            "image/png": "[encoded data removed]",
            "text/plain": [
              "<Figure size 1152x576 with 1 Axes>"
            ]
          },
          "metadata": {
            "tags": [],
            "needs_background": "light"
          }
        }
      ]
    },
    {
      "cell_type": "markdown",
      "metadata": {
        "id": "i4LcZSY_BlaU",
        "colab_type": "text"
      },
      "source": [
        "Now lets fix all the other missing values \n",
        "We will fill them with values obtained from the corresponding column distribution"
      ]
    },
    {
      "cell_type": "code",
      "metadata": {
        "id": "g3dy8XlzR5XF",
        "colab_type": "code",
        "colab": {
          "base_uri": "https://localhost:8080/",
          "height": 70
        },
        "outputId": "c3eac549-a95a-4813-a11b-67cd2f994c7a"
      },
      "source": [
        "df.Type.unique()"
      ],
      "execution_count": 683,
      "outputs": [
        {
          "output_type": "execute_result",
          "data": {
            "text/plain": [
              "array([nan, 'Double Chamber', 'Three Chambered', 'Single Chamber',\n",
              "       'Refrigerator Showcase', 'Built-In', 'Wine', 'Side-By-Side'],\n",
              "      dtype=object)"
            ]
          },
          "metadata": {
            "tags": []
          },
          "execution_count": 683
        }
      ]
    },
    {
      "cell_type": "code",
      "metadata": {
        "id": "FCpf_l0K6OQb",
        "colab_type": "code",
        "colab": {}
      },
      "source": [
        "s1 = df.Condition.value_counts(normalize=True)\n",
        "s2 = df.standart_color.value_counts(normalize=True)\n",
        "s3 = df.Type.value_counts(normalize=True)\n",
        "s4 = df.Freezer.value_counts(normalize=True)\n",
        "s5 = df.price_negotiable.value_counts(normalize=True)\n",
        "\n",
        "\n",
        "\n"
      ],
      "execution_count": 684,
      "outputs": []
    },
    {
      "cell_type": "code",
      "metadata": {
        "id": "bS44nV75TuCn",
        "colab_type": "code",
        "colab": {}
      },
      "source": [
        "missing = df['Condition'].isnull()\n",
        "df.loc[missing,'Condition'] = np.random.choice(s1.index, size=len(df[missing]),p=s1.values)\n",
        "missing = df['standart_color'].isnull()\n",
        "df.loc[missing,'standart_color'] = np.random.choice(s2.index, size=len(df[missing]),p=s2.values)\n",
        "missing = df['Type'].isnull()\n",
        "df.loc[missing,'Type'] = np.random.choice(s3.index, size=len(df[missing]),p=s3.values)\n",
        "missing = df['Freezer'].isnull()\n",
        "df.loc[missing,'Freezer'] = np.random.choice(s4.index, size=len(df[missing]),p=s4.values)\n",
        "missing = df['price_negotiable'].isnull()\n",
        "df.loc[missing,'price_negotiable'] = np.random.choice(s5.index, size=len(df[missing]),p=s5.values)"
      ],
      "execution_count": 685,
      "outputs": []
    },
    {
      "cell_type": "markdown",
      "metadata": {
        "id": "63wObjzpg9Jv",
        "colab_type": "text"
      },
      "source": [
        "Fixing the last non-numeric value:"
      ]
    },
    {
      "cell_type": "code",
      "metadata": {
        "id": "TNmQGp2Ng4gb",
        "colab_type": "code",
        "colab": {}
      },
      "source": [
        "df[\"price_negotiable\"] = df[\"price_negotiable\"].astype(int)\n"
      ],
      "execution_count": 686,
      "outputs": []
    },
    {
      "cell_type": "markdown",
      "metadata": {
        "id": "suLvO3jviccC",
        "colab_type": "text"
      },
      "source": [
        "Checking for NaNs:"
      ]
    },
    {
      "cell_type": "code",
      "metadata": {
        "id": "5KF1VH3MiVzx",
        "colab_type": "code",
        "colab": {
          "base_uri": "https://localhost:8080/",
          "height": 34
        },
        "outputId": "9e49e778-c8fc-4a2d-f49b-5d0f32dd4eae"
      },
      "source": [
        "df.isna().values.sum()"
      ],
      "execution_count": 687,
      "outputs": [
        {
          "output_type": "execute_result",
          "data": {
            "text/plain": [
              "3"
            ]
          },
          "metadata": {
            "tags": []
          },
          "execution_count": 687
        }
      ]
    },
    {
      "cell_type": "markdown",
      "metadata": {
        "id": "A03YxL0-imEn",
        "colab_type": "text"
      },
      "source": [
        "Droping last Nans"
      ]
    },
    {
      "cell_type": "code",
      "metadata": {
        "id": "jdAI9lGaiKIG",
        "colab_type": "code",
        "colab": {}
      },
      "source": [
        "df = df.dropna()"
      ],
      "execution_count": 688,
      "outputs": []
    },
    {
      "cell_type": "code",
      "metadata": {
        "id": "74otY_9CWOpE",
        "colab_type": "code",
        "colab": {}
      },
      "source": [
        "df = pd.get_dummies(df, columns=['Condition', 'Type', 'Freezer', 'Delivery'])"
      ],
      "execution_count": 689,
      "outputs": []
    },
    {
      "cell_type": "code",
      "metadata": {
        "id": "wSqEZYhWhzNG",
        "colab_type": "code",
        "colab": {
          "base_uri": "https://localhost:8080/",
          "height": 232
        },
        "outputId": "f1a4b669-ac21-4860-dff2-ae0ac412321e"
      },
      "source": [
        "df.head()"
      ],
      "execution_count": 690,
      "outputs": [
        {
          "output_type": "execute_result",
          "data": {
            "text/html": [
              "<div>\n",
              "<style scoped>\n",
              "    .dataframe tbody tr th:only-of-type {\n",
              "        vertical-align: middle;\n",
              "    }\n",
              "\n",
              "    .dataframe tbody tr th {\n",
              "        vertical-align: top;\n",
              "    }\n",
              "\n",
              "    .dataframe thead th {\n",
              "        text-align: right;\n",
              "    }\n",
              "</style>\n",
              "<table border=\"1\" class=\"dataframe\">\n",
              "  <thead>\n",
              "    <tr style=\"text-align: right;\">\n",
              "      <th></th>\n",
              "      <th>title_len</th>\n",
              "      <th>desc_len</th>\n",
              "      <th>completeness</th>\n",
              "      <th>price</th>\n",
              "      <th>price_negotiable</th>\n",
              "      <th>image_count</th>\n",
              "      <th>active_time</th>\n",
              "      <th>standart_color</th>\n",
              "      <th>Condition_For parts</th>\n",
              "      <th>Condition_Needs repair</th>\n",
              "      <th>Condition_New</th>\n",
              "      <th>Condition_Used</th>\n",
              "      <th>Type_Built-In</th>\n",
              "      <th>Type_Double Chamber</th>\n",
              "      <th>Type_Refrigerator Showcase</th>\n",
              "      <th>Type_Side-By-Side</th>\n",
              "      <th>Type_Single Chamber</th>\n",
              "      <th>Type_Three Chambered</th>\n",
              "      <th>Type_Wine</th>\n",
              "      <th>Freezer_0</th>\n",
              "      <th>Freezer_1</th>\n",
              "      <th>Delivery_Customer pickup</th>\n",
              "      <th>Delivery_Free delivery</th>\n",
              "      <th>Delivery_Paid delivery</th>\n",
              "    </tr>\n",
              "  </thead>\n",
              "  <tbody>\n",
              "    <tr>\n",
              "      <th>1</th>\n",
              "      <td>36</td>\n",
              "      <td>293</td>\n",
              "      <td>59</td>\n",
              "      <td>234.0</td>\n",
              "      <td>0</td>\n",
              "      <td>1.0</td>\n",
              "      <td>1310.0</td>\n",
              "      <td>1.0</td>\n",
              "      <td>0</td>\n",
              "      <td>0</td>\n",
              "      <td>0</td>\n",
              "      <td>1</td>\n",
              "      <td>0</td>\n",
              "      <td>1</td>\n",
              "      <td>0</td>\n",
              "      <td>0</td>\n",
              "      <td>0</td>\n",
              "      <td>0</td>\n",
              "      <td>0</td>\n",
              "      <td>0</td>\n",
              "      <td>1</td>\n",
              "      <td>0</td>\n",
              "      <td>0</td>\n",
              "      <td>1</td>\n",
              "    </tr>\n",
              "    <tr>\n",
              "      <th>3</th>\n",
              "      <td>13</td>\n",
              "      <td>13</td>\n",
              "      <td>49</td>\n",
              "      <td>130.0</td>\n",
              "      <td>0</td>\n",
              "      <td>1.0</td>\n",
              "      <td>8.0</td>\n",
              "      <td>1.0</td>\n",
              "      <td>0</td>\n",
              "      <td>0</td>\n",
              "      <td>0</td>\n",
              "      <td>1</td>\n",
              "      <td>0</td>\n",
              "      <td>0</td>\n",
              "      <td>0</td>\n",
              "      <td>0</td>\n",
              "      <td>1</td>\n",
              "      <td>0</td>\n",
              "      <td>0</td>\n",
              "      <td>1</td>\n",
              "      <td>0</td>\n",
              "      <td>0</td>\n",
              "      <td>0</td>\n",
              "      <td>1</td>\n",
              "    </tr>\n",
              "    <tr>\n",
              "      <th>7</th>\n",
              "      <td>19</td>\n",
              "      <td>19</td>\n",
              "      <td>71</td>\n",
              "      <td>39.0</td>\n",
              "      <td>0</td>\n",
              "      <td>1.0</td>\n",
              "      <td>16.0</td>\n",
              "      <td>1.0</td>\n",
              "      <td>0</td>\n",
              "      <td>0</td>\n",
              "      <td>0</td>\n",
              "      <td>1</td>\n",
              "      <td>0</td>\n",
              "      <td>1</td>\n",
              "      <td>0</td>\n",
              "      <td>0</td>\n",
              "      <td>0</td>\n",
              "      <td>0</td>\n",
              "      <td>0</td>\n",
              "      <td>0</td>\n",
              "      <td>1</td>\n",
              "      <td>0</td>\n",
              "      <td>0</td>\n",
              "      <td>1</td>\n",
              "    </tr>\n",
              "    <tr>\n",
              "      <th>8</th>\n",
              "      <td>40</td>\n",
              "      <td>40</td>\n",
              "      <td>86</td>\n",
              "      <td>52.0</td>\n",
              "      <td>0</td>\n",
              "      <td>3.0</td>\n",
              "      <td>592.0</td>\n",
              "      <td>1.0</td>\n",
              "      <td>0</td>\n",
              "      <td>0</td>\n",
              "      <td>0</td>\n",
              "      <td>1</td>\n",
              "      <td>0</td>\n",
              "      <td>1</td>\n",
              "      <td>0</td>\n",
              "      <td>0</td>\n",
              "      <td>0</td>\n",
              "      <td>0</td>\n",
              "      <td>0</td>\n",
              "      <td>0</td>\n",
              "      <td>1</td>\n",
              "      <td>0</td>\n",
              "      <td>0</td>\n",
              "      <td>1</td>\n",
              "    </tr>\n",
              "    <tr>\n",
              "      <th>9</th>\n",
              "      <td>48</td>\n",
              "      <td>48</td>\n",
              "      <td>92</td>\n",
              "      <td>132.6</td>\n",
              "      <td>0</td>\n",
              "      <td>6.0</td>\n",
              "      <td>1037.0</td>\n",
              "      <td>1.0</td>\n",
              "      <td>0</td>\n",
              "      <td>0</td>\n",
              "      <td>0</td>\n",
              "      <td>1</td>\n",
              "      <td>0</td>\n",
              "      <td>1</td>\n",
              "      <td>0</td>\n",
              "      <td>0</td>\n",
              "      <td>0</td>\n",
              "      <td>0</td>\n",
              "      <td>0</td>\n",
              "      <td>0</td>\n",
              "      <td>1</td>\n",
              "      <td>0</td>\n",
              "      <td>0</td>\n",
              "      <td>1</td>\n",
              "    </tr>\n",
              "  </tbody>\n",
              "</table>\n",
              "</div>"
            ],
            "text/plain": [
              "   title_len  desc_len  ...  Delivery_Free delivery  Delivery_Paid delivery\n",
              "1         36       293  ...                       0                       1\n",
              "3         13        13  ...                       0                       1\n",
              "7         19        19  ...                       0                       1\n",
              "8         40        40  ...                       0                       1\n",
              "9         48        48  ...                       0                       1\n",
              "\n",
              "[5 rows x 24 columns]"
            ]
          },
          "metadata": {
            "tags": []
          },
          "execution_count": 690
        }
      ]
    },
    {
      "cell_type": "markdown",
      "metadata": {
        "id": "k8GDuYCOj9_N",
        "colab_type": "text"
      },
      "source": [
        "**Scaling** data to (0,1):"
      ]
    },
    {
      "cell_type": "code",
      "metadata": {
        "id": "c8oAv525ivsu",
        "colab_type": "code",
        "colab": {
          "base_uri": "https://localhost:8080/",
          "height": 316
        },
        "outputId": "001b6472-2be2-43c9-da9b-38db2fd18153"
      },
      "source": [
        "scaler = MinMaxScaler()\n",
        "df = pd.DataFrame(scaler.fit_transform(df.values), columns=df.columns, index=df.index)\n",
        "df.head()"
      ],
      "execution_count": 691,
      "outputs": [
        {
          "output_type": "execute_result",
          "data": {
            "text/html": [
              "<div>\n",
              "<style scoped>\n",
              "    .dataframe tbody tr th:only-of-type {\n",
              "        vertical-align: middle;\n",
              "    }\n",
              "\n",
              "    .dataframe tbody tr th {\n",
              "        vertical-align: top;\n",
              "    }\n",
              "\n",
              "    .dataframe thead th {\n",
              "        text-align: right;\n",
              "    }\n",
              "</style>\n",
              "<table border=\"1\" class=\"dataframe\">\n",
              "  <thead>\n",
              "    <tr style=\"text-align: right;\">\n",
              "      <th></th>\n",
              "      <th>title_len</th>\n",
              "      <th>desc_len</th>\n",
              "      <th>completeness</th>\n",
              "      <th>price</th>\n",
              "      <th>price_negotiable</th>\n",
              "      <th>image_count</th>\n",
              "      <th>active_time</th>\n",
              "      <th>standart_color</th>\n",
              "      <th>Condition_For parts</th>\n",
              "      <th>Condition_Needs repair</th>\n",
              "      <th>Condition_New</th>\n",
              "      <th>Condition_Used</th>\n",
              "      <th>Type_Built-In</th>\n",
              "      <th>Type_Double Chamber</th>\n",
              "      <th>Type_Refrigerator Showcase</th>\n",
              "      <th>Type_Side-By-Side</th>\n",
              "      <th>Type_Single Chamber</th>\n",
              "      <th>Type_Three Chambered</th>\n",
              "      <th>Type_Wine</th>\n",
              "      <th>Freezer_0</th>\n",
              "      <th>Freezer_1</th>\n",
              "      <th>Delivery_Customer pickup</th>\n",
              "      <th>Delivery_Free delivery</th>\n",
              "      <th>Delivery_Paid delivery</th>\n",
              "    </tr>\n",
              "  </thead>\n",
              "  <tbody>\n",
              "    <tr>\n",
              "      <th>1</th>\n",
              "      <td>0.493151</td>\n",
              "      <td>0.057541</td>\n",
              "      <td>0.414286</td>\n",
              "      <td>5.113239e-07</td>\n",
              "      <td>0.0</td>\n",
              "      <td>0.007576</td>\n",
              "      <td>0.069173</td>\n",
              "      <td>1.0</td>\n",
              "      <td>0.0</td>\n",
              "      <td>0.0</td>\n",
              "      <td>0.0</td>\n",
              "      <td>1.0</td>\n",
              "      <td>0.0</td>\n",
              "      <td>1.0</td>\n",
              "      <td>0.0</td>\n",
              "      <td>0.0</td>\n",
              "      <td>0.0</td>\n",
              "      <td>0.0</td>\n",
              "      <td>0.0</td>\n",
              "      <td>0.0</td>\n",
              "      <td>1.0</td>\n",
              "      <td>0.0</td>\n",
              "      <td>0.0</td>\n",
              "      <td>1.0</td>\n",
              "    </tr>\n",
              "    <tr>\n",
              "      <th>3</th>\n",
              "      <td>0.178082</td>\n",
              "      <td>0.002553</td>\n",
              "      <td>0.271429</td>\n",
              "      <td>2.840688e-07</td>\n",
              "      <td>0.0</td>\n",
              "      <td>0.007576</td>\n",
              "      <td>0.000422</td>\n",
              "      <td>1.0</td>\n",
              "      <td>0.0</td>\n",
              "      <td>0.0</td>\n",
              "      <td>0.0</td>\n",
              "      <td>1.0</td>\n",
              "      <td>0.0</td>\n",
              "      <td>0.0</td>\n",
              "      <td>0.0</td>\n",
              "      <td>0.0</td>\n",
              "      <td>1.0</td>\n",
              "      <td>0.0</td>\n",
              "      <td>0.0</td>\n",
              "      <td>1.0</td>\n",
              "      <td>0.0</td>\n",
              "      <td>0.0</td>\n",
              "      <td>0.0</td>\n",
              "      <td>1.0</td>\n",
              "    </tr>\n",
              "    <tr>\n",
              "      <th>7</th>\n",
              "      <td>0.260274</td>\n",
              "      <td>0.003731</td>\n",
              "      <td>0.585714</td>\n",
              "      <td>8.522065e-08</td>\n",
              "      <td>0.0</td>\n",
              "      <td>0.007576</td>\n",
              "      <td>0.000845</td>\n",
              "      <td>1.0</td>\n",
              "      <td>0.0</td>\n",
              "      <td>0.0</td>\n",
              "      <td>0.0</td>\n",
              "      <td>1.0</td>\n",
              "      <td>0.0</td>\n",
              "      <td>1.0</td>\n",
              "      <td>0.0</td>\n",
              "      <td>0.0</td>\n",
              "      <td>0.0</td>\n",
              "      <td>0.0</td>\n",
              "      <td>0.0</td>\n",
              "      <td>0.0</td>\n",
              "      <td>1.0</td>\n",
              "      <td>0.0</td>\n",
              "      <td>0.0</td>\n",
              "      <td>1.0</td>\n",
              "    </tr>\n",
              "    <tr>\n",
              "      <th>8</th>\n",
              "      <td>0.547945</td>\n",
              "      <td>0.007855</td>\n",
              "      <td>0.800000</td>\n",
              "      <td>1.136275e-07</td>\n",
              "      <td>0.0</td>\n",
              "      <td>0.022727</td>\n",
              "      <td>0.031260</td>\n",
              "      <td>1.0</td>\n",
              "      <td>0.0</td>\n",
              "      <td>0.0</td>\n",
              "      <td>0.0</td>\n",
              "      <td>1.0</td>\n",
              "      <td>0.0</td>\n",
              "      <td>1.0</td>\n",
              "      <td>0.0</td>\n",
              "      <td>0.0</td>\n",
              "      <td>0.0</td>\n",
              "      <td>0.0</td>\n",
              "      <td>0.0</td>\n",
              "      <td>0.0</td>\n",
              "      <td>1.0</td>\n",
              "      <td>0.0</td>\n",
              "      <td>0.0</td>\n",
              "      <td>1.0</td>\n",
              "    </tr>\n",
              "    <tr>\n",
              "      <th>9</th>\n",
              "      <td>0.657534</td>\n",
              "      <td>0.009427</td>\n",
              "      <td>0.885714</td>\n",
              "      <td>2.897502e-07</td>\n",
              "      <td>0.0</td>\n",
              "      <td>0.045455</td>\n",
              "      <td>0.054758</td>\n",
              "      <td>1.0</td>\n",
              "      <td>0.0</td>\n",
              "      <td>0.0</td>\n",
              "      <td>0.0</td>\n",
              "      <td>1.0</td>\n",
              "      <td>0.0</td>\n",
              "      <td>1.0</td>\n",
              "      <td>0.0</td>\n",
              "      <td>0.0</td>\n",
              "      <td>0.0</td>\n",
              "      <td>0.0</td>\n",
              "      <td>0.0</td>\n",
              "      <td>0.0</td>\n",
              "      <td>1.0</td>\n",
              "      <td>0.0</td>\n",
              "      <td>0.0</td>\n",
              "      <td>1.0</td>\n",
              "    </tr>\n",
              "  </tbody>\n",
              "</table>\n",
              "</div>"
            ],
            "text/plain": [
              "   title_len  desc_len  ...  Delivery_Free delivery  Delivery_Paid delivery\n",
              "1   0.493151  0.057541  ...                     0.0                     1.0\n",
              "3   0.178082  0.002553  ...                     0.0                     1.0\n",
              "7   0.260274  0.003731  ...                     0.0                     1.0\n",
              "8   0.547945  0.007855  ...                     0.0                     1.0\n",
              "9   0.657534  0.009427  ...                     0.0                     1.0\n",
              "\n",
              "[5 rows x 24 columns]"
            ]
          },
          "metadata": {
            "tags": []
          },
          "execution_count": 691
        }
      ]
    },
    {
      "cell_type": "markdown",
      "metadata": {
        "id": "o30EQKM6kSPF",
        "colab_type": "text"
      },
      "source": [
        "We have done the preprocessing of our data"
      ]
    },
    {
      "cell_type": "code",
      "metadata": {
        "id": "I6L3eWjZqXU9",
        "colab_type": "code",
        "colab": {
          "base_uri": "https://localhost:8080/",
          "height": 1000
        },
        "outputId": "b46f1ffd-a0a6-4a36-ab78-1172fb53c9b6"
      },
      "source": [
        "fig = plt.figure(figsize=(15,15))\n",
        "sns.heatmap(df.corr())"
      ],
      "execution_count": 692,
      "outputs": [
        {
          "output_type": "execute_result",
          "data": {
            "text/plain": [
              "<matplotlib.axes._subplots.AxesSubplot at 0x7f12754a2ba8>"
            ]
          },
          "metadata": {
            "tags": []
          },
          "execution_count": 692
        },
        {
          "output_type": "display_data",
          "data": {
            "image/png": "[encoded data removed]",
            "text/plain": [
              "<Figure size 1080x1080 with 2 Axes>"
            ]
          },
          "metadata": {
            "tags": [],
            "needs_background": "light"
          }
        }
      ]
    },
    {
      "cell_type": "markdown",
      "metadata": {
        "id": "cwljNCRl3QzT",
        "colab_type": "text"
      },
      "source": [
        "Remove correlated parameters to avoid multicolynearity"
      ]
    },
    {
      "cell_type": "code",
      "metadata": {
        "id": "TofLFR2q3Gcl",
        "colab_type": "code",
        "colab": {}
      },
      "source": [
        "df = df.drop(['Delivery_Customer pickup', 'Delivery_Free delivery', 'Freezer_0', 'Type_Single Chamber', 'Condition_New'], axis =1)"
      ],
      "execution_count": 693,
      "outputs": []
    },
    {
      "cell_type": "code",
      "metadata": {
        "id": "LfUs0c6uvpag",
        "colab_type": "code",
        "colab": {
          "base_uri": "https://localhost:8080/",
          "height": 1000
        },
        "outputId": "6ae1c662-4cd9-452d-fce3-c3ad50d5ec93"
      },
      "source": [
        "fig = plt.figure(figsize=(15,15))\n",
        "sns.heatmap(df.corr())"
      ],
      "execution_count": 694,
      "outputs": [
        {
          "output_type": "execute_result",
          "data": {
            "text/plain": [
              "<matplotlib.axes._subplots.AxesSubplot at 0x7f12751f9978>"
            ]
          },
          "metadata": {
            "tags": []
          },
          "execution_count": 694
        },
        {
          "output_type": "display_data",
          "data": {
            "image/png": "[encoded data removed]",
            "text/plain": [
              "<Figure size 1080x1080 with 2 Axes>"
            ]
          },
          "metadata": {
            "tags": [],
            "needs_background": "light"
          }
        }
      ]
    },
    {
      "cell_type": "markdown",
      "metadata": {
        "id": "oSV9WMNAkjtt",
        "colab_type": "text"
      },
      "source": [
        "# Train-test split"
      ]
    },
    {
      "cell_type": "markdown",
      "metadata": {
        "id": "RIk8C1PplZK8",
        "colab_type": "text"
      },
      "source": [
        "Splitting data on 90% - train, 10% - test samples"
      ]
    },
    {
      "cell_type": "code",
      "metadata": {
        "id": "rIFS0T8jkzPh",
        "colab_type": "code",
        "colab": {}
      },
      "source": [
        "X = df[['desc_len', 'completeness', 'image_count']]\n",
        "# X = df.drop(['active_time','Delivery_Customer pickup', 'Delivery_Free delivery', 'Freezer_0', 'Type_Single Chamber', 'Condition_New'], axis =1)\n",
        "y = df['active_time']\n",
        "X_train, X_test, y_train, y_test = train_test_split(X, y, test_size=0.1)"
      ],
      "execution_count": 695,
      "outputs": []
    },
    {
      "cell_type": "markdown",
      "metadata": {
        "id": "XlAdCtehnyIy",
        "colab_type": "text"
      },
      "source": [
        "# Regression methods"
      ]
    },
    {
      "cell_type": "code",
      "metadata": {
        "id": "Yb9S31CtoXYZ",
        "colab_type": "code",
        "colab": {
          "base_uri": "https://localhost:8080/",
          "height": 466
        },
        "outputId": "ad282553-df4e-4d88-ce48-6e06ae34e31b"
      },
      "source": [
        "import statsmodels.api as sm\n",
        "\n",
        "X_train = sm.add_constant(X_train)\n",
        "X_test = sm.add_constant(X_test)\n",
        "\n",
        "model = sm.OLS(y_train, X_train)\n",
        "res = model.fit()\n",
        "res.summary()"
      ],
      "execution_count": 696,
      "outputs": [
        {
          "output_type": "execute_result",
          "data": {
            "text/html": [
              "<table class=\"simpletable\">\n",
              "<caption>OLS Regression Results</caption>\n",
              "<tr>\n",
              "  <th>Dep. Variable:</th>       <td>active_time</td>   <th>  R-squared:         </th>  <td>   0.010</td> \n",
              "</tr>\n",
              "<tr>\n",
              "  <th>Model:</th>                   <td>OLS</td>       <th>  Adj. R-squared:    </th>  <td>   0.010</td> \n",
              "</tr>\n",
              "<tr>\n",
              "  <th>Method:</th>             <td>Least Squares</td>  <th>  F-statistic:       </th>  <td>   90.24</td> \n",
              "</tr>\n",
              "<tr>\n",
              "  <th>Date:</th>             <td>Mon, 29 Jun 2020</td> <th>  Prob (F-statistic):</th>  <td>4.23e-58</td> \n",
              "</tr>\n",
              "<tr>\n",
              "  <th>Time:</th>                 <td>02:22:32</td>     <th>  Log-Likelihood:    </th>  <td>  37267.</td> \n",
              "</tr>\n",
              "<tr>\n",
              "  <th>No. Observations:</th>      <td> 26921</td>      <th>  AIC:               </th> <td>-7.453e+04</td>\n",
              "</tr>\n",
              "<tr>\n",
              "  <th>Df Residuals:</th>          <td> 26917</td>      <th>  BIC:               </th> <td>-7.449e+04</td>\n",
              "</tr>\n",
              "<tr>\n",
              "  <th>Df Model:</th>              <td>     3</td>      <th>                     </th>      <td> </td>    \n",
              "</tr>\n",
              "<tr>\n",
              "  <th>Covariance Type:</th>      <td>nonrobust</td>    <th>                     </th>      <td> </td>    \n",
              "</tr>\n",
              "</table>\n",
              "<table class=\"simpletable\">\n",
              "<tr>\n",
              "        <td></td>          <th>coef</th>     <th>std err</th>      <th>t</th>      <th>P>|t|</th>  <th>[0.025</th>    <th>0.975]</th>  \n",
              "</tr>\n",
              "<tr>\n",
              "  <th>const</th>        <td>    0.0356</td> <td>    0.001</td> <td>   29.994</td> <td> 0.000</td> <td>    0.033</td> <td>    0.038</td>\n",
              "</tr>\n",
              "<tr>\n",
              "  <th>desc_len</th>     <td>    0.2893</td> <td>    0.020</td> <td>   14.201</td> <td> 0.000</td> <td>    0.249</td> <td>    0.329</td>\n",
              "</tr>\n",
              "<tr>\n",
              "  <th>completeness</th> <td>   -0.0218</td> <td>    0.002</td> <td>  -10.929</td> <td> 0.000</td> <td>   -0.026</td> <td>   -0.018</td>\n",
              "</tr>\n",
              "<tr>\n",
              "  <th>image_count</th>  <td>    0.1428</td> <td>    0.029</td> <td>    4.917</td> <td> 0.000</td> <td>    0.086</td> <td>    0.200</td>\n",
              "</tr>\n",
              "</table>\n",
              "<table class=\"simpletable\">\n",
              "<tr>\n",
              "  <th>Omnibus:</th>       <td>27954.636</td> <th>  Durbin-Watson:     </th>  <td>   1.992</td>  \n",
              "</tr>\n",
              "<tr>\n",
              "  <th>Prob(Omnibus):</th>  <td> 0.000</td>   <th>  Jarque-Bera (JB):  </th> <td>2086546.769</td>\n",
              "</tr>\n",
              "<tr>\n",
              "  <th>Skew:</th>           <td> 5.199</td>   <th>  Prob(JB):          </th>  <td>    0.00</td>  \n",
              "</tr>\n",
              "<tr>\n",
              "  <th>Kurtosis:</th>       <td>44.857</td>   <th>  Cond. No.          </th>  <td>    93.9</td>  \n",
              "</tr>\n",
              "</table><br/><br/>Warnings:<br/>[1] Standard Errors assume that the covariance matrix of the errors is correctly specified."
            ],
            "text/plain": [
              "<class 'statsmodels.iolib.summary.Summary'>\n",
              "\"\"\"\n",
              "                            OLS Regression Results                            \n",
              "==============================================================================\n",
              "Dep. Variable:            active_time   R-squared:                       0.010\n",
              "Model:                            OLS   Adj. R-squared:                  0.010\n",
              "Method:                 Least Squares   F-statistic:                     90.24\n",
              "Date:                Mon, 29 Jun 2020   Prob (F-statistic):           4.23e-58\n",
              "Time:                        02:22:32   Log-Likelihood:                 37267.\n",
              "No. Observations:               26921   AIC:                        -7.453e+04\n",
              "Df Residuals:                   26917   BIC:                        -7.449e+04\n",
              "Df Model:                           3                                         \n",
              "Covariance Type:            nonrobust                                         \n",
              "================================================================================\n",
              "                   coef    std err          t      P>|t|      [0.025      0.975]\n",
              "--------------------------------------------------------------------------------\n",
              "const            0.0356      0.001     29.994      0.000       0.033       0.038\n",
              "desc_len         0.2893      0.020     14.201      0.000       0.249       0.329\n",
              "completeness    -0.0218      0.002    -10.929      0.000      -0.026      -0.018\n",
              "image_count      0.1428      0.029      4.917      0.000       0.086       0.200\n",
              "==============================================================================\n",
              "Omnibus:                    27954.636   Durbin-Watson:                   1.992\n",
              "Prob(Omnibus):                  0.000   Jarque-Bera (JB):          2086546.769\n",
              "Skew:                           5.199   Prob(JB):                         0.00\n",
              "Kurtosis:                      44.857   Cond. No.                         93.9\n",
              "==============================================================================\n",
              "\n",
              "Warnings:\n",
              "[1] Standard Errors assume that the covariance matrix of the errors is correctly specified.\n",
              "\"\"\""
            ]
          },
          "metadata": {
            "tags": []
          },
          "execution_count": 696
        }
      ]
    },
    {
      "cell_type": "code",
      "metadata": {
        "id": "D0UhhYKmo9S0",
        "colab_type": "code",
        "colab": {
          "base_uri": "https://localhost:8080/",
          "height": 34
        },
        "outputId": "6269bb39-595b-42d0-bc20-330dd59db741"
      },
      "source": [
        "from sklearn.linear_model import LinearRegression\n",
        "\n",
        "reg = LinearRegression().fit(X_train, y_train)\n",
        "reg.score(X_test, y_test)"
      ],
      "execution_count": 698,
      "outputs": [
        {
          "output_type": "execute_result",
          "data": {
            "text/plain": [
              "0.012176091923815857"
            ]
          },
          "metadata": {
            "tags": []
          },
          "execution_count": 698
        }
      ]
    },
    {
      "cell_type": "code",
      "metadata": {
        "id": "KoWClH6Yp8o8",
        "colab_type": "code",
        "colab": {
          "base_uri": "https://localhost:8080/",
          "height": 34
        },
        "outputId": "b5b8cb52-07ae-4029-c294-0d7e0251cef9"
      },
      "source": [
        "from sklearn.ensemble import RandomForestRegressor\n",
        "\n",
        "regr = RandomForestRegressor(max_depth=10, random_state=0).fit(X_train, y_train)\n",
        "reg.score(X_test, y_test)"
      ],
      "execution_count": 699,
      "outputs": [
        {
          "output_type": "execute_result",
          "data": {
            "text/plain": [
              "0.012176091923815857"
            ]
          },
          "metadata": {
            "tags": []
          },
          "execution_count": 699
        }
      ]
    },
    {
      "cell_type": "markdown",
      "metadata": {
        "id": "DzkjFUQpEkZN",
        "colab_type": "text"
      },
      "source": [
        "As we can see this regression models are showing very poor results"
      ]
    },
    {
      "cell_type": "code",
      "metadata": {
        "id": "l4Hely7kEtVn",
        "colab_type": "code",
        "colab": {}
      },
      "source": [
        ""
      ],
      "execution_count": null,
      "outputs": []
    }
  ]
}